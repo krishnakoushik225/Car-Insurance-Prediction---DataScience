{
  "nbformat": 4,
  "nbformat_minor": 0,
  "metadata": {
    "colab": {
      "name": "FODS__CaseStudy(vehicle_insurance_prediction).ipynb",
      "provenance": [],
      "collapsed_sections": []
    },
    "kernelspec": {
      "name": "python3",
      "display_name": "Python 3"
    },
    "language_info": {
      "name": "python"
    }
  },
  "cells": [
    {
      "cell_type": "code",
      "metadata": {
        "id": "IJHIUlLHktzy"
      },
      "source": [
        "import numpy as np \n",
        "import pandas as pd \n",
        "import seaborn as sns\n",
        "import matplotlib.pyplot as plt"
      ],
      "execution_count": null,
      "outputs": []
    },
    {
      "cell_type": "code",
      "metadata": {
        "id": "z33DKrA5nizw"
      },
      "source": [
        "train = pd.read_csv('/content/drive/MyDrive/FODS CaseStudy/train.csv')\n",
        "test = pd.read_csv('/content/drive/MyDrive/FODS CaseStudy/test.csv')"
      ],
      "execution_count": null,
      "outputs": []
    },
    {
      "cell_type": "markdown",
      "metadata": {
        "id": "-cHfaOiKpMsI"
      },
      "source": [
        "#Train explicit"
      ]
    },
    {
      "cell_type": "code",
      "metadata": {
        "colab": {
          "base_uri": "https://localhost:8080/",
          "height": 206
        },
        "id": "C276WH20nvoy",
        "outputId": "3dc26191-461e-4519-b215-84f796078423"
      },
      "source": [
        "train.head()"
      ],
      "execution_count": null,
      "outputs": [
        {
          "output_type": "execute_result",
          "data": {
            "text/html": [
              "<div>\n",
              "<style scoped>\n",
              "    .dataframe tbody tr th:only-of-type {\n",
              "        vertical-align: middle;\n",
              "    }\n",
              "\n",
              "    .dataframe tbody tr th {\n",
              "        vertical-align: top;\n",
              "    }\n",
              "\n",
              "    .dataframe thead th {\n",
              "        text-align: right;\n",
              "    }\n",
              "</style>\n",
              "<table border=\"1\" class=\"dataframe\">\n",
              "  <thead>\n",
              "    <tr style=\"text-align: right;\">\n",
              "      <th></th>\n",
              "      <th>id</th>\n",
              "      <th>Gender</th>\n",
              "      <th>Age</th>\n",
              "      <th>Driving_License</th>\n",
              "      <th>Region_Code</th>\n",
              "      <th>Previously_Insured</th>\n",
              "      <th>Vehicle_Age</th>\n",
              "      <th>Vehicle_Damage</th>\n",
              "      <th>Annual_Premium</th>\n",
              "      <th>Policy_Sales_Channel</th>\n",
              "      <th>Vintage</th>\n",
              "      <th>Response</th>\n",
              "    </tr>\n",
              "  </thead>\n",
              "  <tbody>\n",
              "    <tr>\n",
              "      <th>0</th>\n",
              "      <td>1</td>\n",
              "      <td>Male</td>\n",
              "      <td>44</td>\n",
              "      <td>1</td>\n",
              "      <td>28.0</td>\n",
              "      <td>0</td>\n",
              "      <td>&gt; 2 Years</td>\n",
              "      <td>Yes</td>\n",
              "      <td>40454.0</td>\n",
              "      <td>26.0</td>\n",
              "      <td>217</td>\n",
              "      <td>1</td>\n",
              "    </tr>\n",
              "    <tr>\n",
              "      <th>1</th>\n",
              "      <td>2</td>\n",
              "      <td>Male</td>\n",
              "      <td>76</td>\n",
              "      <td>1</td>\n",
              "      <td>3.0</td>\n",
              "      <td>0</td>\n",
              "      <td>1-2 Year</td>\n",
              "      <td>No</td>\n",
              "      <td>33536.0</td>\n",
              "      <td>26.0</td>\n",
              "      <td>183</td>\n",
              "      <td>0</td>\n",
              "    </tr>\n",
              "    <tr>\n",
              "      <th>2</th>\n",
              "      <td>3</td>\n",
              "      <td>Male</td>\n",
              "      <td>47</td>\n",
              "      <td>1</td>\n",
              "      <td>28.0</td>\n",
              "      <td>0</td>\n",
              "      <td>&gt; 2 Years</td>\n",
              "      <td>Yes</td>\n",
              "      <td>38294.0</td>\n",
              "      <td>26.0</td>\n",
              "      <td>27</td>\n",
              "      <td>1</td>\n",
              "    </tr>\n",
              "    <tr>\n",
              "      <th>3</th>\n",
              "      <td>4</td>\n",
              "      <td>Male</td>\n",
              "      <td>21</td>\n",
              "      <td>1</td>\n",
              "      <td>11.0</td>\n",
              "      <td>1</td>\n",
              "      <td>&lt; 1 Year</td>\n",
              "      <td>No</td>\n",
              "      <td>28619.0</td>\n",
              "      <td>152.0</td>\n",
              "      <td>203</td>\n",
              "      <td>0</td>\n",
              "    </tr>\n",
              "    <tr>\n",
              "      <th>4</th>\n",
              "      <td>5</td>\n",
              "      <td>Female</td>\n",
              "      <td>29</td>\n",
              "      <td>1</td>\n",
              "      <td>41.0</td>\n",
              "      <td>1</td>\n",
              "      <td>&lt; 1 Year</td>\n",
              "      <td>No</td>\n",
              "      <td>27496.0</td>\n",
              "      <td>152.0</td>\n",
              "      <td>39</td>\n",
              "      <td>0</td>\n",
              "    </tr>\n",
              "  </tbody>\n",
              "</table>\n",
              "</div>"
            ],
            "text/plain": [
              "   id  Gender  Age  ...  Policy_Sales_Channel  Vintage  Response\n",
              "0   1    Male   44  ...                  26.0      217         1\n",
              "1   2    Male   76  ...                  26.0      183         0\n",
              "2   3    Male   47  ...                  26.0       27         1\n",
              "3   4    Male   21  ...                 152.0      203         0\n",
              "4   5  Female   29  ...                 152.0       39         0\n",
              "\n",
              "[5 rows x 12 columns]"
            ]
          },
          "metadata": {},
          "execution_count": 115
        }
      ]
    },
    {
      "cell_type": "code",
      "metadata": {
        "colab": {
          "base_uri": "https://localhost:8080/",
          "height": 300
        },
        "id": "OwzUJy-un0KH",
        "outputId": "3c237531-ea23-45c5-fe2d-31262a415a50"
      },
      "source": [
        "train.describe()"
      ],
      "execution_count": null,
      "outputs": [
        {
          "output_type": "execute_result",
          "data": {
            "text/html": [
              "<div>\n",
              "<style scoped>\n",
              "    .dataframe tbody tr th:only-of-type {\n",
              "        vertical-align: middle;\n",
              "    }\n",
              "\n",
              "    .dataframe tbody tr th {\n",
              "        vertical-align: top;\n",
              "    }\n",
              "\n",
              "    .dataframe thead th {\n",
              "        text-align: right;\n",
              "    }\n",
              "</style>\n",
              "<table border=\"1\" class=\"dataframe\">\n",
              "  <thead>\n",
              "    <tr style=\"text-align: right;\">\n",
              "      <th></th>\n",
              "      <th>id</th>\n",
              "      <th>Age</th>\n",
              "      <th>Driving_License</th>\n",
              "      <th>Region_Code</th>\n",
              "      <th>Previously_Insured</th>\n",
              "      <th>Annual_Premium</th>\n",
              "      <th>Policy_Sales_Channel</th>\n",
              "      <th>Vintage</th>\n",
              "      <th>Response</th>\n",
              "    </tr>\n",
              "  </thead>\n",
              "  <tbody>\n",
              "    <tr>\n",
              "      <th>count</th>\n",
              "      <td>381109.000000</td>\n",
              "      <td>381109.000000</td>\n",
              "      <td>381109.000000</td>\n",
              "      <td>381109.000000</td>\n",
              "      <td>381109.000000</td>\n",
              "      <td>381109.000000</td>\n",
              "      <td>381109.000000</td>\n",
              "      <td>381109.000000</td>\n",
              "      <td>381109.000000</td>\n",
              "    </tr>\n",
              "    <tr>\n",
              "      <th>mean</th>\n",
              "      <td>190555.000000</td>\n",
              "      <td>38.822584</td>\n",
              "      <td>0.997869</td>\n",
              "      <td>26.388807</td>\n",
              "      <td>0.458210</td>\n",
              "      <td>30564.389581</td>\n",
              "      <td>112.034295</td>\n",
              "      <td>154.347397</td>\n",
              "      <td>0.122563</td>\n",
              "    </tr>\n",
              "    <tr>\n",
              "      <th>std</th>\n",
              "      <td>110016.836208</td>\n",
              "      <td>15.511611</td>\n",
              "      <td>0.046110</td>\n",
              "      <td>13.229888</td>\n",
              "      <td>0.498251</td>\n",
              "      <td>17213.155057</td>\n",
              "      <td>54.203995</td>\n",
              "      <td>83.671304</td>\n",
              "      <td>0.327936</td>\n",
              "    </tr>\n",
              "    <tr>\n",
              "      <th>min</th>\n",
              "      <td>1.000000</td>\n",
              "      <td>20.000000</td>\n",
              "      <td>0.000000</td>\n",
              "      <td>0.000000</td>\n",
              "      <td>0.000000</td>\n",
              "      <td>2630.000000</td>\n",
              "      <td>1.000000</td>\n",
              "      <td>10.000000</td>\n",
              "      <td>0.000000</td>\n",
              "    </tr>\n",
              "    <tr>\n",
              "      <th>25%</th>\n",
              "      <td>95278.000000</td>\n",
              "      <td>25.000000</td>\n",
              "      <td>1.000000</td>\n",
              "      <td>15.000000</td>\n",
              "      <td>0.000000</td>\n",
              "      <td>24405.000000</td>\n",
              "      <td>29.000000</td>\n",
              "      <td>82.000000</td>\n",
              "      <td>0.000000</td>\n",
              "    </tr>\n",
              "    <tr>\n",
              "      <th>50%</th>\n",
              "      <td>190555.000000</td>\n",
              "      <td>36.000000</td>\n",
              "      <td>1.000000</td>\n",
              "      <td>28.000000</td>\n",
              "      <td>0.000000</td>\n",
              "      <td>31669.000000</td>\n",
              "      <td>133.000000</td>\n",
              "      <td>154.000000</td>\n",
              "      <td>0.000000</td>\n",
              "    </tr>\n",
              "    <tr>\n",
              "      <th>75%</th>\n",
              "      <td>285832.000000</td>\n",
              "      <td>49.000000</td>\n",
              "      <td>1.000000</td>\n",
              "      <td>35.000000</td>\n",
              "      <td>1.000000</td>\n",
              "      <td>39400.000000</td>\n",
              "      <td>152.000000</td>\n",
              "      <td>227.000000</td>\n",
              "      <td>0.000000</td>\n",
              "    </tr>\n",
              "    <tr>\n",
              "      <th>max</th>\n",
              "      <td>381109.000000</td>\n",
              "      <td>85.000000</td>\n",
              "      <td>1.000000</td>\n",
              "      <td>52.000000</td>\n",
              "      <td>1.000000</td>\n",
              "      <td>540165.000000</td>\n",
              "      <td>163.000000</td>\n",
              "      <td>299.000000</td>\n",
              "      <td>1.000000</td>\n",
              "    </tr>\n",
              "  </tbody>\n",
              "</table>\n",
              "</div>"
            ],
            "text/plain": [
              "                  id            Age  ...        Vintage       Response\n",
              "count  381109.000000  381109.000000  ...  381109.000000  381109.000000\n",
              "mean   190555.000000      38.822584  ...     154.347397       0.122563\n",
              "std    110016.836208      15.511611  ...      83.671304       0.327936\n",
              "min         1.000000      20.000000  ...      10.000000       0.000000\n",
              "25%     95278.000000      25.000000  ...      82.000000       0.000000\n",
              "50%    190555.000000      36.000000  ...     154.000000       0.000000\n",
              "75%    285832.000000      49.000000  ...     227.000000       0.000000\n",
              "max    381109.000000      85.000000  ...     299.000000       1.000000\n",
              "\n",
              "[8 rows x 9 columns]"
            ]
          },
          "metadata": {},
          "execution_count": 116
        }
      ]
    },
    {
      "cell_type": "code",
      "metadata": {
        "colab": {
          "base_uri": "https://localhost:8080/"
        },
        "id": "SIFRKkCXozRH",
        "outputId": "43ae4aa0-d6cc-4ebf-e52b-f6f2132da0a3"
      },
      "source": [
        "train.info()"
      ],
      "execution_count": null,
      "outputs": [
        {
          "output_type": "stream",
          "name": "stdout",
          "text": [
            "<class 'pandas.core.frame.DataFrame'>\n",
            "RangeIndex: 381109 entries, 0 to 381108\n",
            "Data columns (total 12 columns):\n",
            " #   Column                Non-Null Count   Dtype  \n",
            "---  ------                --------------   -----  \n",
            " 0   id                    381109 non-null  int64  \n",
            " 1   Gender                381109 non-null  object \n",
            " 2   Age                   381109 non-null  int64  \n",
            " 3   Driving_License       381109 non-null  int64  \n",
            " 4   Region_Code           381109 non-null  float64\n",
            " 5   Previously_Insured    381109 non-null  int64  \n",
            " 6   Vehicle_Age           381109 non-null  object \n",
            " 7   Vehicle_Damage        381109 non-null  object \n",
            " 8   Annual_Premium        381109 non-null  float64\n",
            " 9   Policy_Sales_Channel  381109 non-null  float64\n",
            " 10  Vintage               381109 non-null  int64  \n",
            " 11  Response              381109 non-null  int64  \n",
            "dtypes: float64(3), int64(6), object(3)\n",
            "memory usage: 34.9+ MB\n"
          ]
        }
      ]
    },
    {
      "cell_type": "code",
      "metadata": {
        "colab": {
          "base_uri": "https://localhost:8080/"
        },
        "id": "Q_t4SxGJo1Bu",
        "outputId": "8c4df312-881c-4dc2-99fb-ff04cb80621a"
      },
      "source": [
        "train.isna().sum()"
      ],
      "execution_count": null,
      "outputs": [
        {
          "output_type": "execute_result",
          "data": {
            "text/plain": [
              "id                      0\n",
              "Gender                  0\n",
              "Age                     0\n",
              "Driving_License         0\n",
              "Region_Code             0\n",
              "Previously_Insured      0\n",
              "Vehicle_Age             0\n",
              "Vehicle_Damage          0\n",
              "Annual_Premium          0\n",
              "Policy_Sales_Channel    0\n",
              "Vintage                 0\n",
              "Response                0\n",
              "dtype: int64"
            ]
          },
          "metadata": {},
          "execution_count": 118
        }
      ]
    },
    {
      "cell_type": "code",
      "metadata": {
        "colab": {
          "base_uri": "https://localhost:8080/"
        },
        "id": "zSKDojuKo4oh",
        "outputId": "edf58531-e72f-42a4-864b-e0121b12f152"
      },
      "source": [
        "for i in train.columns:\n",
        "    print(train[i].value_counts())"
      ],
      "execution_count": null,
      "outputs": [
        {
          "output_type": "stream",
          "name": "stdout",
          "text": [
            "2047      1\n",
            "295621    1\n",
            "84604     1\n",
            "82557     1\n",
            "88702     1\n",
            "         ..\n",
            "107934    1\n",
            "109983    1\n",
            "21920     1\n",
            "23969     1\n",
            "2049      1\n",
            "Name: id, Length: 381109, dtype: int64\n",
            "Male      206089\n",
            "Female    175020\n",
            "Name: Gender, dtype: int64\n",
            "24    25960\n",
            "23    24256\n",
            "22    20964\n",
            "25    20636\n",
            "21    16457\n",
            "      ...  \n",
            "81       56\n",
            "82       29\n",
            "83       22\n",
            "84       11\n",
            "85       11\n",
            "Name: Age, Length: 66, dtype: int64\n",
            "1    380297\n",
            "0       812\n",
            "Name: Driving_License, dtype: int64\n",
            "28.0    106415\n",
            "8.0      33877\n",
            "46.0     19749\n",
            "41.0     18263\n",
            "15.0     13308\n",
            "30.0     12191\n",
            "29.0     11065\n",
            "50.0     10243\n",
            "3.0       9251\n",
            "11.0      9232\n",
            "36.0      8797\n",
            "33.0      7654\n",
            "47.0      7436\n",
            "35.0      6942\n",
            "6.0       6280\n",
            "45.0      5605\n",
            "37.0      5501\n",
            "18.0      5153\n",
            "48.0      4681\n",
            "14.0      4678\n",
            "39.0      4644\n",
            "10.0      4374\n",
            "21.0      4266\n",
            "2.0       4038\n",
            "13.0      4036\n",
            "7.0       3279\n",
            "12.0      3198\n",
            "9.0       3101\n",
            "27.0      2823\n",
            "32.0      2787\n",
            "43.0      2639\n",
            "17.0      2617\n",
            "26.0      2587\n",
            "25.0      2503\n",
            "24.0      2415\n",
            "38.0      2026\n",
            "0.0       2021\n",
            "16.0      2007\n",
            "31.0      1960\n",
            "23.0      1960\n",
            "20.0      1935\n",
            "49.0      1832\n",
            "4.0       1801\n",
            "34.0      1664\n",
            "19.0      1535\n",
            "22.0      1309\n",
            "40.0      1295\n",
            "5.0       1279\n",
            "1.0       1008\n",
            "44.0       808\n",
            "42.0       591\n",
            "52.0       267\n",
            "51.0       183\n",
            "Name: Region_Code, dtype: int64\n",
            "0    206481\n",
            "1    174628\n",
            "Name: Previously_Insured, dtype: int64\n",
            "1-2 Year     200316\n",
            "< 1 Year     164786\n",
            "> 2 Years     16007\n",
            "Name: Vehicle_Age, dtype: int64\n",
            "Yes    192413\n",
            "No     188696\n",
            "Name: Vehicle_Damage, dtype: int64\n",
            "2630.0     64877\n",
            "69856.0      140\n",
            "39008.0       41\n",
            "38287.0       38\n",
            "45179.0       38\n",
            "           ...  \n",
            "62326.0        1\n",
            "59733.0        1\n",
            "55934.0        1\n",
            "75387.0        1\n",
            "53346.0        1\n",
            "Name: Annual_Premium, Length: 48838, dtype: int64\n",
            "152.0    134784\n",
            "26.0      79700\n",
            "124.0     73995\n",
            "160.0     21779\n",
            "156.0     10661\n",
            "          ...  \n",
            "144.0         1\n",
            "149.0         1\n",
            "84.0          1\n",
            "143.0         1\n",
            "43.0          1\n",
            "Name: Policy_Sales_Channel, Length: 155, dtype: int64\n",
            "256    1418\n",
            "73     1410\n",
            "282    1397\n",
            "158    1394\n",
            "187    1392\n",
            "       ... \n",
            "205    1235\n",
            "89     1234\n",
            "32     1230\n",
            "224    1227\n",
            "277    1226\n",
            "Name: Vintage, Length: 290, dtype: int64\n",
            "0    334399\n",
            "1     46710\n",
            "Name: Response, dtype: int64\n"
          ]
        }
      ]
    },
    {
      "cell_type": "markdown",
      "metadata": {
        "id": "eZk24ARppRDf"
      },
      "source": [
        "#Test Explicit"
      ]
    },
    {
      "cell_type": "code",
      "metadata": {
        "colab": {
          "base_uri": "https://localhost:8080/",
          "height": 206
        },
        "id": "g9D-h2nXpHU4",
        "outputId": "7c92c546-b73c-450c-c788-f120d018bcaa"
      },
      "source": [
        "test.head()"
      ],
      "execution_count": null,
      "outputs": [
        {
          "output_type": "execute_result",
          "data": {
            "text/html": [
              "<div>\n",
              "<style scoped>\n",
              "    .dataframe tbody tr th:only-of-type {\n",
              "        vertical-align: middle;\n",
              "    }\n",
              "\n",
              "    .dataframe tbody tr th {\n",
              "        vertical-align: top;\n",
              "    }\n",
              "\n",
              "    .dataframe thead th {\n",
              "        text-align: right;\n",
              "    }\n",
              "</style>\n",
              "<table border=\"1\" class=\"dataframe\">\n",
              "  <thead>\n",
              "    <tr style=\"text-align: right;\">\n",
              "      <th></th>\n",
              "      <th>id</th>\n",
              "      <th>Gender</th>\n",
              "      <th>Age</th>\n",
              "      <th>Driving_License</th>\n",
              "      <th>Region_Code</th>\n",
              "      <th>Previously_Insured</th>\n",
              "      <th>Vehicle_Age</th>\n",
              "      <th>Vehicle_Damage</th>\n",
              "      <th>Annual_Premium</th>\n",
              "      <th>Policy_Sales_Channel</th>\n",
              "      <th>Vintage</th>\n",
              "    </tr>\n",
              "  </thead>\n",
              "  <tbody>\n",
              "    <tr>\n",
              "      <th>0</th>\n",
              "      <td>381110</td>\n",
              "      <td>Male</td>\n",
              "      <td>25</td>\n",
              "      <td>1</td>\n",
              "      <td>11.0</td>\n",
              "      <td>1</td>\n",
              "      <td>&lt; 1 Year</td>\n",
              "      <td>No</td>\n",
              "      <td>35786.0</td>\n",
              "      <td>152.0</td>\n",
              "      <td>53</td>\n",
              "    </tr>\n",
              "    <tr>\n",
              "      <th>1</th>\n",
              "      <td>381111</td>\n",
              "      <td>Male</td>\n",
              "      <td>40</td>\n",
              "      <td>1</td>\n",
              "      <td>28.0</td>\n",
              "      <td>0</td>\n",
              "      <td>1-2 Year</td>\n",
              "      <td>Yes</td>\n",
              "      <td>33762.0</td>\n",
              "      <td>7.0</td>\n",
              "      <td>111</td>\n",
              "    </tr>\n",
              "    <tr>\n",
              "      <th>2</th>\n",
              "      <td>381112</td>\n",
              "      <td>Male</td>\n",
              "      <td>47</td>\n",
              "      <td>1</td>\n",
              "      <td>28.0</td>\n",
              "      <td>0</td>\n",
              "      <td>1-2 Year</td>\n",
              "      <td>Yes</td>\n",
              "      <td>40050.0</td>\n",
              "      <td>124.0</td>\n",
              "      <td>199</td>\n",
              "    </tr>\n",
              "    <tr>\n",
              "      <th>3</th>\n",
              "      <td>381113</td>\n",
              "      <td>Male</td>\n",
              "      <td>24</td>\n",
              "      <td>1</td>\n",
              "      <td>27.0</td>\n",
              "      <td>1</td>\n",
              "      <td>&lt; 1 Year</td>\n",
              "      <td>Yes</td>\n",
              "      <td>37356.0</td>\n",
              "      <td>152.0</td>\n",
              "      <td>187</td>\n",
              "    </tr>\n",
              "    <tr>\n",
              "      <th>4</th>\n",
              "      <td>381114</td>\n",
              "      <td>Male</td>\n",
              "      <td>27</td>\n",
              "      <td>1</td>\n",
              "      <td>28.0</td>\n",
              "      <td>1</td>\n",
              "      <td>&lt; 1 Year</td>\n",
              "      <td>No</td>\n",
              "      <td>59097.0</td>\n",
              "      <td>152.0</td>\n",
              "      <td>297</td>\n",
              "    </tr>\n",
              "  </tbody>\n",
              "</table>\n",
              "</div>"
            ],
            "text/plain": [
              "       id Gender  Age  ...  Annual_Premium  Policy_Sales_Channel  Vintage\n",
              "0  381110   Male   25  ...         35786.0                 152.0       53\n",
              "1  381111   Male   40  ...         33762.0                   7.0      111\n",
              "2  381112   Male   47  ...         40050.0                 124.0      199\n",
              "3  381113   Male   24  ...         37356.0                 152.0      187\n",
              "4  381114   Male   27  ...         59097.0                 152.0      297\n",
              "\n",
              "[5 rows x 11 columns]"
            ]
          },
          "metadata": {},
          "execution_count": 120
        }
      ]
    },
    {
      "cell_type": "code",
      "metadata": {
        "colab": {
          "base_uri": "https://localhost:8080/"
        },
        "id": "nF8UrEgKpTvN",
        "outputId": "5b17f472-b293-4930-ba0f-0f919949d7ad"
      },
      "source": [
        "test.isnull().sum()"
      ],
      "execution_count": null,
      "outputs": [
        {
          "output_type": "execute_result",
          "data": {
            "text/plain": [
              "id                      0\n",
              "Gender                  0\n",
              "Age                     0\n",
              "Driving_License         0\n",
              "Region_Code             0\n",
              "Previously_Insured      0\n",
              "Vehicle_Age             0\n",
              "Vehicle_Damage          0\n",
              "Annual_Premium          0\n",
              "Policy_Sales_Channel    0\n",
              "Vintage                 0\n",
              "dtype: int64"
            ]
          },
          "metadata": {},
          "execution_count": 121
        }
      ]
    },
    {
      "cell_type": "code",
      "metadata": {
        "colab": {
          "base_uri": "https://localhost:8080/"
        },
        "id": "PcyE-c-SpXUZ",
        "outputId": "884c3e3d-6696-47fd-be44-185af37d0142"
      },
      "source": [
        "test.info()"
      ],
      "execution_count": null,
      "outputs": [
        {
          "output_type": "stream",
          "name": "stdout",
          "text": [
            "<class 'pandas.core.frame.DataFrame'>\n",
            "RangeIndex: 127037 entries, 0 to 127036\n",
            "Data columns (total 11 columns):\n",
            " #   Column                Non-Null Count   Dtype  \n",
            "---  ------                --------------   -----  \n",
            " 0   id                    127037 non-null  int64  \n",
            " 1   Gender                127037 non-null  object \n",
            " 2   Age                   127037 non-null  int64  \n",
            " 3   Driving_License       127037 non-null  int64  \n",
            " 4   Region_Code           127037 non-null  float64\n",
            " 5   Previously_Insured    127037 non-null  int64  \n",
            " 6   Vehicle_Age           127037 non-null  object \n",
            " 7   Vehicle_Damage        127037 non-null  object \n",
            " 8   Annual_Premium        127037 non-null  float64\n",
            " 9   Policy_Sales_Channel  127037 non-null  float64\n",
            " 10  Vintage               127037 non-null  int64  \n",
            "dtypes: float64(3), int64(5), object(3)\n",
            "memory usage: 10.7+ MB\n"
          ]
        }
      ]
    },
    {
      "cell_type": "code",
      "metadata": {
        "colab": {
          "base_uri": "https://localhost:8080/",
          "height": 300
        },
        "id": "AvaXiBgtphBH",
        "outputId": "70c4cfb7-7308-4680-e9fb-bea25eeb3aa4"
      },
      "source": [
        "test.describe()"
      ],
      "execution_count": null,
      "outputs": [
        {
          "output_type": "execute_result",
          "data": {
            "text/html": [
              "<div>\n",
              "<style scoped>\n",
              "    .dataframe tbody tr th:only-of-type {\n",
              "        vertical-align: middle;\n",
              "    }\n",
              "\n",
              "    .dataframe tbody tr th {\n",
              "        vertical-align: top;\n",
              "    }\n",
              "\n",
              "    .dataframe thead th {\n",
              "        text-align: right;\n",
              "    }\n",
              "</style>\n",
              "<table border=\"1\" class=\"dataframe\">\n",
              "  <thead>\n",
              "    <tr style=\"text-align: right;\">\n",
              "      <th></th>\n",
              "      <th>id</th>\n",
              "      <th>Age</th>\n",
              "      <th>Driving_License</th>\n",
              "      <th>Region_Code</th>\n",
              "      <th>Previously_Insured</th>\n",
              "      <th>Annual_Premium</th>\n",
              "      <th>Policy_Sales_Channel</th>\n",
              "      <th>Vintage</th>\n",
              "    </tr>\n",
              "  </thead>\n",
              "  <tbody>\n",
              "    <tr>\n",
              "      <th>count</th>\n",
              "      <td>127037.000000</td>\n",
              "      <td>127037.000000</td>\n",
              "      <td>127037.000000</td>\n",
              "      <td>127037.000000</td>\n",
              "      <td>127037.000000</td>\n",
              "      <td>127037.000000</td>\n",
              "      <td>127037.000000</td>\n",
              "      <td>127037.000000</td>\n",
              "    </tr>\n",
              "    <tr>\n",
              "      <th>mean</th>\n",
              "      <td>444628.000000</td>\n",
              "      <td>38.765903</td>\n",
              "      <td>0.998134</td>\n",
              "      <td>26.459866</td>\n",
              "      <td>0.460039</td>\n",
              "      <td>30524.643576</td>\n",
              "      <td>111.800468</td>\n",
              "      <td>154.318301</td>\n",
              "    </tr>\n",
              "    <tr>\n",
              "      <th>std</th>\n",
              "      <td>36672.567411</td>\n",
              "      <td>15.465814</td>\n",
              "      <td>0.043152</td>\n",
              "      <td>13.209916</td>\n",
              "      <td>0.498403</td>\n",
              "      <td>16945.297103</td>\n",
              "      <td>54.371765</td>\n",
              "      <td>83.661588</td>\n",
              "    </tr>\n",
              "    <tr>\n",
              "      <th>min</th>\n",
              "      <td>381110.000000</td>\n",
              "      <td>20.000000</td>\n",
              "      <td>0.000000</td>\n",
              "      <td>0.000000</td>\n",
              "      <td>0.000000</td>\n",
              "      <td>2630.000000</td>\n",
              "      <td>1.000000</td>\n",
              "      <td>10.000000</td>\n",
              "    </tr>\n",
              "    <tr>\n",
              "      <th>25%</th>\n",
              "      <td>412869.000000</td>\n",
              "      <td>25.000000</td>\n",
              "      <td>1.000000</td>\n",
              "      <td>15.000000</td>\n",
              "      <td>0.000000</td>\n",
              "      <td>24325.000000</td>\n",
              "      <td>26.000000</td>\n",
              "      <td>82.000000</td>\n",
              "    </tr>\n",
              "    <tr>\n",
              "      <th>50%</th>\n",
              "      <td>444628.000000</td>\n",
              "      <td>36.000000</td>\n",
              "      <td>1.000000</td>\n",
              "      <td>28.000000</td>\n",
              "      <td>0.000000</td>\n",
              "      <td>31642.000000</td>\n",
              "      <td>135.000000</td>\n",
              "      <td>154.000000</td>\n",
              "    </tr>\n",
              "    <tr>\n",
              "      <th>75%</th>\n",
              "      <td>476387.000000</td>\n",
              "      <td>49.000000</td>\n",
              "      <td>1.000000</td>\n",
              "      <td>35.000000</td>\n",
              "      <td>1.000000</td>\n",
              "      <td>39408.000000</td>\n",
              "      <td>152.000000</td>\n",
              "      <td>227.000000</td>\n",
              "    </tr>\n",
              "    <tr>\n",
              "      <th>max</th>\n",
              "      <td>508146.000000</td>\n",
              "      <td>85.000000</td>\n",
              "      <td>1.000000</td>\n",
              "      <td>52.000000</td>\n",
              "      <td>1.000000</td>\n",
              "      <td>472042.000000</td>\n",
              "      <td>163.000000</td>\n",
              "      <td>299.000000</td>\n",
              "    </tr>\n",
              "  </tbody>\n",
              "</table>\n",
              "</div>"
            ],
            "text/plain": [
              "                  id            Age  ...  Policy_Sales_Channel        Vintage\n",
              "count  127037.000000  127037.000000  ...         127037.000000  127037.000000\n",
              "mean   444628.000000      38.765903  ...            111.800468     154.318301\n",
              "std     36672.567411      15.465814  ...             54.371765      83.661588\n",
              "min    381110.000000      20.000000  ...              1.000000      10.000000\n",
              "25%    412869.000000      25.000000  ...             26.000000      82.000000\n",
              "50%    444628.000000      36.000000  ...            135.000000     154.000000\n",
              "75%    476387.000000      49.000000  ...            152.000000     227.000000\n",
              "max    508146.000000      85.000000  ...            163.000000     299.000000\n",
              "\n",
              "[8 rows x 8 columns]"
            ]
          },
          "metadata": {},
          "execution_count": 123
        }
      ]
    },
    {
      "cell_type": "markdown",
      "metadata": {
        "id": "UXBi6Sjepzlq"
      },
      "source": [
        "#Visualization(categorical data)"
      ]
    },
    {
      "cell_type": "code",
      "metadata": {
        "id": "lvmHtrOfpjC4"
      },
      "source": [
        "cat_f = ['Gender','Driving_License','Previously_Insured','Vehicle_Age','Vehicle_Damage']  #categorical data\n",
        "num_f = ['Age','Region_Code','Annual_Premium','Policy_Sales_Channel','Vintage']  #numerical data"
      ],
      "execution_count": null,
      "outputs": []
    },
    {
      "cell_type": "code",
      "metadata": {
        "colab": {
          "base_uri": "https://localhost:8080/",
          "height": 1000
        },
        "id": "TuzQUoLfpvQC",
        "outputId": "ffb567d1-5064-4269-cdf2-5e158a8e0d5e"
      },
      "source": [
        "for i in cat_f:\n",
        "    sns.countplot(train[i])\n",
        "    plt.show()"
      ],
      "execution_count": null,
      "outputs": [
        {
          "output_type": "stream",
          "name": "stderr",
          "text": [
            "/usr/local/lib/python3.7/dist-packages/seaborn/_decorators.py:43: FutureWarning: Pass the following variable as a keyword arg: x. From version 0.12, the only valid positional argument will be `data`, and passing other arguments without an explicit keyword will result in an error or misinterpretation.\n",
            "  FutureWarning\n"
          ]
        },
        {
          "output_type": "display_data",
          "data": {
            "image/png": "[encoded data removed]",
            "text/plain": [
              "<Figure size 432x288 with 1 Axes>"
            ]
          },
          "metadata": {
            "needs_background": "light"
          }
        },
        {
          "output_type": "stream",
          "name": "stderr",
          "text": [
            "/usr/local/lib/python3.7/dist-packages/seaborn/_decorators.py:43: FutureWarning: Pass the following variable as a keyword arg: x. From version 0.12, the only valid positional argument will be `data`, and passing other arguments without an explicit keyword will result in an error or misinterpretation.\n",
            "  FutureWarning\n"
          ]
        },
        {
          "output_type": "display_data",
          "data": {
            "image/png": "[encoded data removed]",
            "text/plain": [
              "<Figure size 432x288 with 1 Axes>"
            ]
          },
          "metadata": {
            "needs_background": "light"
          }
        },
        {
          "output_type": "stream",
          "name": "stderr",
          "text": [
            "/usr/local/lib/python3.7/dist-packages/seaborn/_decorators.py:43: FutureWarning: Pass the following variable as a keyword arg: x. From version 0.12, the only valid positional argument will be `data`, and passing other arguments without an explicit keyword will result in an error or misinterpretation.\n",
            "  FutureWarning\n"
          ]
        },
        {
          "output_type": "display_data",
          "data": {
            "image/png": "[encoded data removed]",
            "text/plain": [
              "<Figure size 432x288 with 1 Axes>"
            ]
          },
          "metadata": {
            "needs_background": "light"
          }
        },
        {
          "output_type": "stream",
          "name": "stderr",
          "text": [
            "/usr/local/lib/python3.7/dist-packages/seaborn/_decorators.py:43: FutureWarning: Pass the following variable as a keyword arg: x. From version 0.12, the only valid positional argument will be `data`, and passing other arguments without an explicit keyword will result in an error or misinterpretation.\n",
            "  FutureWarning\n"
          ]
        },
        {
          "output_type": "display_data",
          "data": {
            "image/png": "[encoded data removed]",
            "text/plain": [
              "<Figure size 432x288 with 1 Axes>"
            ]
          },
          "metadata": {
            "needs_background": "light"
          }
        },
        {
          "output_type": "stream",
          "name": "stderr",
          "text": [
            "/usr/local/lib/python3.7/dist-packages/seaborn/_decorators.py:43: FutureWarning: Pass the following variable as a keyword arg: x. From version 0.12, the only valid positional argument will be `data`, and passing other arguments without an explicit keyword will result in an error or misinterpretation.\n",
            "  FutureWarning\n"
          ]
        },
        {
          "output_type": "display_data",
          "data": {
            "image/png": "[encoded data removed]",
            "text/plain": [
              "<Figure size 432x288 with 1 Axes>"
            ]
          },
          "metadata": {
            "needs_background": "light"
          }
        }
      ]
    },
    {
      "cell_type": "code",
      "metadata": {
        "colab": {
          "base_uri": "https://localhost:8080/",
          "height": 1000
        },
        "id": "jXtoItvRp2qg",
        "outputId": "a48c36a2-f340-40ec-9cc8-45507ef009f4"
      },
      "source": [
        "for i in cat_f:\n",
        "    sns.countplot(x = i, hue = 'Response', data = train)\n",
        "    plt.show()"
      ],
      "execution_count": null,
      "outputs": [
        {
          "output_type": "display_data",
          "data": {
            "image/png": "[encoded data removed]",
            "text/plain": [
              "<Figure size 432x288 with 1 Axes>"
            ]
          },
          "metadata": {
            "needs_background": "light"
          }
        },
        {
          "output_type": "display_data",
          "data": {
            "image/png": "[encoded data removed]",
            "text/plain": [
              "<Figure size 432x288 with 1 Axes>"
            ]
          },
          "metadata": {
            "needs_background": "light"
          }
        },
        {
          "output_type": "display_data",
          "data": {
            "image/png": "[encoded data removed]",
            "text/plain": [
              "<Figure size 432x288 with 1 Axes>"
            ]
          },
          "metadata": {
            "needs_background": "light"
          }
        },
        {
          "output_type": "display_data",
          "data": {
            "image/png": "[encoded data removed]",
            "text/plain": [
              "<Figure size 432x288 with 1 Axes>"
            ]
          },
          "metadata": {
            "needs_background": "light"
          }
        },
        {
          "output_type": "display_data",
          "data": {
            "image/png": "[encoded data removed]",
            "text/plain": [
              "<Figure size 432x288 with 1 Axes>"
            ]
          },
          "metadata": {
            "needs_background": "light"
          }
        }
      ]
    },
    {
      "cell_type": "code",
      "metadata": {
        "colab": {
          "base_uri": "https://localhost:8080/",
          "height": 1000
        },
        "id": "dbrW-4XXqBCh",
        "outputId": "fb0813bc-94a6-447b-adb3-07ec56ab924c"
      },
      "source": [
        "for i in cat_f:\n",
        "    sns.countplot(x = i, hue = 'Response', data = train)\n",
        "    plt.show()"
      ],
      "execution_count": null,
      "outputs": [
        {
          "output_type": "display_data",
          "data": {
            "image/png": "[encoded data removed]",
            "text/plain": [
              "<Figure size 432x288 with 1 Axes>"
            ]
          },
          "metadata": {
            "needs_background": "light"
          }
        },
        {
          "output_type": "display_data",
          "data": {
            "image/png": "[encoded data removed]",
            "text/plain": [
              "<Figure size 432x288 with 1 Axes>"
            ]
          },
          "metadata": {
            "needs_background": "light"
          }
        },
        {
          "output_type": "display_data",
          "data": {
            "image/png": "[encoded data removed]",
            "text/plain": [
              "<Figure size 432x288 with 1 Axes>"
            ]
          },
          "metadata": {
            "needs_background": "light"
          }
        },
        {
          "output_type": "display_data",
          "data": {
            "image/png": "[encoded data removed]",
            "text/plain": [
              "<Figure size 432x288 with 1 Axes>"
            ]
          },
          "metadata": {
            "needs_background": "light"
          }
        },
        {
          "output_type": "display_data",
          "data": {
            "image/png": "[encoded data removed]",
            "text/plain": [
              "<Figure size 432x288 with 1 Axes>"
            ]
          },
          "metadata": {
            "needs_background": "light"
          }
        }
      ]
    },
    {
      "cell_type": "code",
      "metadata": {
        "colab": {
          "base_uri": "https://localhost:8080/",
          "height": 143
        },
        "id": "Q7fDO83e8s54",
        "outputId": "56283e14-9743-445c-f0a4-0b39079ab72f"
      },
      "source": [
        "pd.pivot_table(train, index='Response', values=['Age','Region_Code','Annual_Premium','Vintage','Policy_Sales_Channel'])\n",
        "#pivot table"
      ],
      "execution_count": null,
      "outputs": [
        {
          "output_type": "execute_result",
          "data": {
            "text/html": [
              "<div>\n",
              "<style scoped>\n",
              "    .dataframe tbody tr th:only-of-type {\n",
              "        vertical-align: middle;\n",
              "    }\n",
              "\n",
              "    .dataframe tbody tr th {\n",
              "        vertical-align: top;\n",
              "    }\n",
              "\n",
              "    .dataframe thead th {\n",
              "        text-align: right;\n",
              "    }\n",
              "</style>\n",
              "<table border=\"1\" class=\"dataframe\">\n",
              "  <thead>\n",
              "    <tr style=\"text-align: right;\">\n",
              "      <th></th>\n",
              "      <th>Age</th>\n",
              "      <th>Annual_Premium</th>\n",
              "      <th>Policy_Sales_Channel</th>\n",
              "      <th>Region_Code</th>\n",
              "      <th>Vintage</th>\n",
              "    </tr>\n",
              "    <tr>\n",
              "      <th>Response</th>\n",
              "      <th></th>\n",
              "      <th></th>\n",
              "      <th></th>\n",
              "      <th></th>\n",
              "      <th></th>\n",
              "    </tr>\n",
              "  </thead>\n",
              "  <tbody>\n",
              "    <tr>\n",
              "      <th>0</th>\n",
              "      <td>38.178227</td>\n",
              "      <td>30419.160276</td>\n",
              "      <td>114.851040</td>\n",
              "      <td>26.336544</td>\n",
              "      <td>154.380243</td>\n",
              "    </tr>\n",
              "    <tr>\n",
              "      <th>1</th>\n",
              "      <td>43.435560</td>\n",
              "      <td>31604.092742</td>\n",
              "      <td>91.869086</td>\n",
              "      <td>26.762963</td>\n",
              "      <td>154.112246</td>\n",
              "    </tr>\n",
              "  </tbody>\n",
              "</table>\n",
              "</div>"
            ],
            "text/plain": [
              "                Age  Annual_Premium  ...  Region_Code     Vintage\n",
              "Response                             ...                         \n",
              "0         38.178227    30419.160276  ...    26.336544  154.380243\n",
              "1         43.435560    31604.092742  ...    26.762963  154.112246\n",
              "\n",
              "[2 rows x 5 columns]"
            ]
          },
          "metadata": {},
          "execution_count": 128
        }
      ]
    },
    {
      "cell_type": "code",
      "metadata": {
        "colab": {
          "base_uri": "https://localhost:8080/"
        },
        "id": "v8LTvDgO86mR",
        "outputId": "9d9e863b-6c08-4536-9523-c6167e00cf16"
      },
      "source": [
        "for i in train[cat_f]:\n",
        "    print(pd.pivot_table(train,index='Response',columns=i, values='Age'))\n",
        "    print(\"==\"*20)"
      ],
      "execution_count": null,
      "outputs": [
        {
          "output_type": "stream",
          "name": "stdout",
          "text": [
            "Gender       Female       Male\n",
            "Response                      \n",
            "0         35.692945  40.373375\n",
            "1         42.235634  44.200526\n",
            "========================================\n",
            "Driving_License          0          1\n",
            "Response                             \n",
            "0                65.952010  38.114043\n",
            "1                59.073171  43.421822\n",
            "========================================\n",
            "Previously_Insured          0          1\n",
            "Response                                \n",
            "0                   42.162760  34.525781\n",
            "1                   43.461828  35.696203\n",
            "========================================\n",
            "Vehicle_Age   1-2 Year   < 1 Year  > 2 Years\n",
            "Response                                    \n",
            "0            49.761410  24.730594  56.046351\n",
            "1            45.572344  26.819217  53.069332\n",
            "========================================\n",
            "Vehicle_Damage         No        Yes\n",
            "Response                            \n",
            "0               34.625031  42.725282\n",
            "1               35.969450  43.595893\n",
            "========================================\n"
          ]
        }
      ]
    },
    {
      "cell_type": "code",
      "metadata": {
        "colab": {
          "base_uri": "https://localhost:8080/",
          "height": 1000
        },
        "id": "wmXHO7rR9RzV",
        "outputId": "250a702f-fe3e-4ce1-a2ad-a68b20088e3a"
      },
      "source": [
        "# dealing with outliers values\n",
        "for i in train[num_f]:\n",
        "    sns.boxplot(train[i])\n",
        "    plt.title(i)\n",
        "    plt.show()"
      ],
      "execution_count": null,
      "outputs": [
        {
          "output_type": "stream",
          "name": "stderr",
          "text": [
            "/usr/local/lib/python3.7/dist-packages/seaborn/_decorators.py:43: FutureWarning: Pass the following variable as a keyword arg: x. From version 0.12, the only valid positional argument will be `data`, and passing other arguments without an explicit keyword will result in an error or misinterpretation.\n",
            "  FutureWarning\n"
          ]
        },
        {
          "output_type": "display_data",
          "data": {
            "image/png": "[encoded data removed]",
            "text/plain": [
              "<Figure size 432x288 with 1 Axes>"
            ]
          },
          "metadata": {
            "needs_background": "light"
          }
        },
        {
          "output_type": "stream",
          "name": "stderr",
          "text": [
            "/usr/local/lib/python3.7/dist-packages/seaborn/_decorators.py:43: FutureWarning: Pass the following variable as a keyword arg: x. From version 0.12, the only valid positional argument will be `data`, and passing other arguments without an explicit keyword will result in an error or misinterpretation.\n",
            "  FutureWarning\n"
          ]
        },
        {
          "output_type": "display_data",
          "data": {
            "image/png": "[encoded data removed]",
            "text/plain": [
              "<Figure size 432x288 with 1 Axes>"
            ]
          },
          "metadata": {
            "needs_background": "light"
          }
        },
        {
          "output_type": "stream",
          "name": "stderr",
          "text": [
            "/usr/local/lib/python3.7/dist-packages/seaborn/_decorators.py:43: FutureWarning: Pass the following variable as a keyword arg: x. From version 0.12, the only valid positional argument will be `data`, and passing other arguments without an explicit keyword will result in an error or misinterpretation.\n",
            "  FutureWarning\n"
          ]
        },
        {
          "output_type": "display_data",
          "data": {
            "image/png": "[encoded data removed]",
            "text/plain": [
              "<Figure size 432x288 with 1 Axes>"
            ]
          },
          "metadata": {
            "needs_background": "light"
          }
        },
        {
          "output_type": "stream",
          "name": "stderr",
          "text": [
            "/usr/local/lib/python3.7/dist-packages/seaborn/_decorators.py:43: FutureWarning: Pass the following variable as a keyword arg: x. From version 0.12, the only valid positional argument will be `data`, and passing other arguments without an explicit keyword will result in an error or misinterpretation.\n",
            "  FutureWarning\n"
          ]
        },
        {
          "output_type": "display_data",
          "data": {
            "image/png": "[encoded data removed]",
            "text/plain": [
              "<Figure size 432x288 with 1 Axes>"
            ]
          },
          "metadata": {
            "needs_background": "light"
          }
        },
        {
          "output_type": "stream",
          "name": "stderr",
          "text": [
            "/usr/local/lib/python3.7/dist-packages/seaborn/_decorators.py:43: FutureWarning: Pass the following variable as a keyword arg: x. From version 0.12, the only valid positional argument will be `data`, and passing other arguments without an explicit keyword will result in an error or misinterpretation.\n",
            "  FutureWarning\n"
          ]
        },
        {
          "output_type": "display_data",
          "data": {
            "image/png": "[encoded data removed]",
            "text/plain": [
              "<Figure size 432x288 with 1 Axes>"
            ]
          },
          "metadata": {
            "needs_background": "light"
          }
        }
      ]
    },
    {
      "cell_type": "code",
      "metadata": {
        "id": "GM8zgoSZ-_uC"
      },
      "source": [
        "train_data_cat = train[['Gender','Driving_License','Previously_Insured','Vehicle_Age','Vehicle_Damage']]\n",
        "train_data_num = train[['Age','Region_Code','Annual_Premium','Vintage','Policy_Sales_Channel']]"
      ],
      "execution_count": null,
      "outputs": []
    },
    {
      "cell_type": "code",
      "metadata": {
        "id": "ICfCd4bx9tS5"
      },
      "source": [
        "def outlinefree(dataCol):     \n",
        "      \n",
        "    sorted(dataCol)                          # sort column\n",
        "    Q1,Q3 = np.percentile(dataCol,[25,75])   # getting 25% and 75% percentile\n",
        "    IQR = Q3-Q1                              # getting IQR \n",
        "    LowerRange = Q1-(1.5 * IQR)              # getting Lowrange\n",
        "    UpperRange = Q3+(1.5 * IQR)              # getting Upperrange \n",
        "    \n",
        "    colname = dataCol.tolist()               # convert column into list  \n",
        "    newlist =[]                              # empty list for store new values\n",
        "    for i in range(len(colname)):\n",
        "        \n",
        "        if colname[i] > UpperRange:          # list number > Upperrange \n",
        "            colname[i] = UpperRange          # then number = Upperrange\n",
        "            newlist.append(colname[i])       # append value to empty list\n",
        "        elif colname[i] < LowerRange:        # list number < Lowrange \n",
        "            colname[i] = LowerRange          # then number = Lowrange\n",
        "            newlist.append(colname[i])       # append value to empty list \n",
        "        else:\n",
        "            colname[i]                       # list number\n",
        "            newlist.append(colname[i])       # append value to empty list\n",
        "            \n",
        "        \n",
        "\n",
        "    return newlist"
      ],
      "execution_count": null,
      "outputs": []
    },
    {
      "cell_type": "code",
      "metadata": {
        "id": "9t7sUCmV9tHv"
      },
      "source": [
        "for i in range(len(train_data_num.columns)):\n",
        "    new_list =  outlinefree(train.loc[:,train_data_num.columns[i]]) # retrun new list\n",
        "    train.loc[:,train_data_num.columns[i]] = new_list "
      ],
      "execution_count": null,
      "outputs": []
    },
    {
      "cell_type": "code",
      "metadata": {
        "id": "b5KilyoP9-Db"
      },
      "source": [
        "train_data_num_new = train[['Age','Region_Code','Annual_Premium','Vintage','Policy_Sales_Channel']]\n"
      ],
      "execution_count": null,
      "outputs": []
    },
    {
      "cell_type": "code",
      "metadata": {
        "colab": {
          "base_uri": "https://localhost:8080/",
          "height": 1000
        },
        "id": "DmYWAMwJ997B",
        "outputId": "06d88255-5b64-4611-9259-b871188ed045"
      },
      "source": [
        "# dealing with outliers values\n",
        "for i in train_data_num_new.columns:\n",
        "    sns.boxplot(train_data_num_new[i])\n",
        "    plt.title(i)\n",
        "    plt.show()"
      ],
      "execution_count": null,
      "outputs": [
        {
          "output_type": "stream",
          "name": "stderr",
          "text": [
            "/usr/local/lib/python3.7/dist-packages/seaborn/_decorators.py:43: FutureWarning: Pass the following variable as a keyword arg: x. From version 0.12, the only valid positional argument will be `data`, and passing other arguments without an explicit keyword will result in an error or misinterpretation.\n",
            "  FutureWarning\n"
          ]
        },
        {
          "output_type": "display_data",
          "data": {
            "image/png": "[encoded data removed]",
            "text/plain": [
              "<Figure size 432x288 with 1 Axes>"
            ]
          },
          "metadata": {
            "needs_background": "light"
          }
        },
        {
          "output_type": "stream",
          "name": "stderr",
          "text": [
            "/usr/local/lib/python3.7/dist-packages/seaborn/_decorators.py:43: FutureWarning: Pass the following variable as a keyword arg: x. From version 0.12, the only valid positional argument will be `data`, and passing other arguments without an explicit keyword will result in an error or misinterpretation.\n",
            "  FutureWarning\n"
          ]
        },
        {
          "output_type": "display_data",
          "data": {
            "image/png": "[encoded data removed]",
            "text/plain": [
              "<Figure size 432x288 with 1 Axes>"
            ]
          },
          "metadata": {
            "needs_background": "light"
          }
        },
        {
          "output_type": "stream",
          "name": "stderr",
          "text": [
            "/usr/local/lib/python3.7/dist-packages/seaborn/_decorators.py:43: FutureWarning: Pass the following variable as a keyword arg: x. From version 0.12, the only valid positional argument will be `data`, and passing other arguments without an explicit keyword will result in an error or misinterpretation.\n",
            "  FutureWarning\n"
          ]
        },
        {
          "output_type": "display_data",
          "data": {
            "image/png": "[encoded data removed]",
            "text/plain": [
              "<Figure size 432x288 with 1 Axes>"
            ]
          },
          "metadata": {
            "needs_background": "light"
          }
        },
        {
          "output_type": "stream",
          "name": "stderr",
          "text": [
            "/usr/local/lib/python3.7/dist-packages/seaborn/_decorators.py:43: FutureWarning: Pass the following variable as a keyword arg: x. From version 0.12, the only valid positional argument will be `data`, and passing other arguments without an explicit keyword will result in an error or misinterpretation.\n",
            "  FutureWarning\n"
          ]
        },
        {
          "output_type": "display_data",
          "data": {
            "image/png": "[encoded data removed]",
            "text/plain": [
              "<Figure size 432x288 with 1 Axes>"
            ]
          },
          "metadata": {
            "needs_background": "light"
          }
        },
        {
          "output_type": "stream",
          "name": "stderr",
          "text": [
            "/usr/local/lib/python3.7/dist-packages/seaborn/_decorators.py:43: FutureWarning: Pass the following variable as a keyword arg: x. From version 0.12, the only valid positional argument will be `data`, and passing other arguments without an explicit keyword will result in an error or misinterpretation.\n",
            "  FutureWarning\n"
          ]
        },
        {
          "output_type": "display_data",
          "data": {
            "image/png": "[encoded data removed]",
            "text/plain": [
              "<Figure size 432x288 with 1 Axes>"
            ]
          },
          "metadata": {
            "needs_background": "light"
          }
        }
      ]
    },
    {
      "cell_type": "code",
      "metadata": {
        "colab": {
          "base_uri": "https://localhost:8080/"
        },
        "id": "tLAcS8s0995K",
        "outputId": "91a05662-e00c-402b-f32f-7d1a1b65c845"
      },
      "source": [
        "train.Vehicle_Age.value_counts()"
      ],
      "execution_count": null,
      "outputs": [
        {
          "output_type": "execute_result",
          "data": {
            "text/plain": [
              "1-2 Year     200316\n",
              "< 1 Year     164786\n",
              "> 2 Years     16007\n",
              "Name: Vehicle_Age, dtype: int64"
            ]
          },
          "metadata": {},
          "execution_count": 136
        }
      ]
    },
    {
      "cell_type": "code",
      "metadata": {
        "id": "_qP3EfIG99xn"
      },
      "source": [
        ""
      ],
      "execution_count": null,
      "outputs": []
    },
    {
      "cell_type": "markdown",
      "source": [
        "#Feauture Engineering"
      ],
      "metadata": {
        "id": "ll8XdwJJF8H4"
      }
    },
    {
      "cell_type": "markdown",
      "metadata": {
        "id": "Dg7RUrfFql6F"
      },
      "source": [
        "ordinal encoding"
      ]
    },
    {
      "cell_type": "code",
      "metadata": {
        "id": "2d46dwtqqdPp"
      },
      "source": [
        "def ordinal_encode(df, column, ordering):\n",
        "    df = df.copy()\n",
        "    df[column] = df[column].apply(lambda x: ordering.index(x))\n",
        "    return df"
      ],
      "execution_count": null,
      "outputs": []
    },
    {
      "cell_type": "code",
      "metadata": {
        "id": "j3GEGeXoqoKm"
      },
      "source": [
        "age_ordering = ['< 1 Year', '1-2 Year', '> 2 Years']\n",
        "\n",
        "train = ordinal_encode(train, 'Vehicle_Age', age_ordering)\n",
        "test = ordinal_encode(test, 'Vehicle_Age', age_ordering)"
      ],
      "execution_count": null,
      "outputs": []
    },
    {
      "cell_type": "code",
      "source": [
        "train"
      ],
      "metadata": {
        "colab": {
          "base_uri": "https://localhost:8080/",
          "height": 423
        },
        "id": "brl5l1u2GTKs",
        "outputId": "4d6ad588-c308-46ab-8ab6-9ae036763978"
      },
      "execution_count": null,
      "outputs": [
        {
          "output_type": "execute_result",
          "data": {
            "text/html": [
              "<div>\n",
              "<style scoped>\n",
              "    .dataframe tbody tr th:only-of-type {\n",
              "        vertical-align: middle;\n",
              "    }\n",
              "\n",
              "    .dataframe tbody tr th {\n",
              "        vertical-align: top;\n",
              "    }\n",
              "\n",
              "    .dataframe thead th {\n",
              "        text-align: right;\n",
              "    }\n",
              "</style>\n",
              "<table border=\"1\" class=\"dataframe\">\n",
              "  <thead>\n",
              "    <tr style=\"text-align: right;\">\n",
              "      <th></th>\n",
              "      <th>id</th>\n",
              "      <th>Gender</th>\n",
              "      <th>Age</th>\n",
              "      <th>Driving_License</th>\n",
              "      <th>Region_Code</th>\n",
              "      <th>Previously_Insured</th>\n",
              "      <th>Vehicle_Age</th>\n",
              "      <th>Vehicle_Damage</th>\n",
              "      <th>Annual_Premium</th>\n",
              "      <th>Policy_Sales_Channel</th>\n",
              "      <th>Vintage</th>\n",
              "      <th>Response</th>\n",
              "    </tr>\n",
              "  </thead>\n",
              "  <tbody>\n",
              "    <tr>\n",
              "      <th>0</th>\n",
              "      <td>1</td>\n",
              "      <td>Male</td>\n",
              "      <td>44</td>\n",
              "      <td>1</td>\n",
              "      <td>28.0</td>\n",
              "      <td>0</td>\n",
              "      <td>2</td>\n",
              "      <td>Yes</td>\n",
              "      <td>40454.0</td>\n",
              "      <td>26.0</td>\n",
              "      <td>217</td>\n",
              "      <td>1</td>\n",
              "    </tr>\n",
              "    <tr>\n",
              "      <th>1</th>\n",
              "      <td>2</td>\n",
              "      <td>Male</td>\n",
              "      <td>76</td>\n",
              "      <td>1</td>\n",
              "      <td>3.0</td>\n",
              "      <td>0</td>\n",
              "      <td>1</td>\n",
              "      <td>No</td>\n",
              "      <td>33536.0</td>\n",
              "      <td>26.0</td>\n",
              "      <td>183</td>\n",
              "      <td>0</td>\n",
              "    </tr>\n",
              "    <tr>\n",
              "      <th>2</th>\n",
              "      <td>3</td>\n",
              "      <td>Male</td>\n",
              "      <td>47</td>\n",
              "      <td>1</td>\n",
              "      <td>28.0</td>\n",
              "      <td>0</td>\n",
              "      <td>2</td>\n",
              "      <td>Yes</td>\n",
              "      <td>38294.0</td>\n",
              "      <td>26.0</td>\n",
              "      <td>27</td>\n",
              "      <td>1</td>\n",
              "    </tr>\n",
              "    <tr>\n",
              "      <th>3</th>\n",
              "      <td>4</td>\n",
              "      <td>Male</td>\n",
              "      <td>21</td>\n",
              "      <td>1</td>\n",
              "      <td>11.0</td>\n",
              "      <td>1</td>\n",
              "      <td>0</td>\n",
              "      <td>No</td>\n",
              "      <td>28619.0</td>\n",
              "      <td>152.0</td>\n",
              "      <td>203</td>\n",
              "      <td>0</td>\n",
              "    </tr>\n",
              "    <tr>\n",
              "      <th>4</th>\n",
              "      <td>5</td>\n",
              "      <td>Female</td>\n",
              "      <td>29</td>\n",
              "      <td>1</td>\n",
              "      <td>41.0</td>\n",
              "      <td>1</td>\n",
              "      <td>0</td>\n",
              "      <td>No</td>\n",
              "      <td>27496.0</td>\n",
              "      <td>152.0</td>\n",
              "      <td>39</td>\n",
              "      <td>0</td>\n",
              "    </tr>\n",
              "    <tr>\n",
              "      <th>...</th>\n",
              "      <td>...</td>\n",
              "      <td>...</td>\n",
              "      <td>...</td>\n",
              "      <td>...</td>\n",
              "      <td>...</td>\n",
              "      <td>...</td>\n",
              "      <td>...</td>\n",
              "      <td>...</td>\n",
              "      <td>...</td>\n",
              "      <td>...</td>\n",
              "      <td>...</td>\n",
              "      <td>...</td>\n",
              "    </tr>\n",
              "    <tr>\n",
              "      <th>381104</th>\n",
              "      <td>381105</td>\n",
              "      <td>Male</td>\n",
              "      <td>74</td>\n",
              "      <td>1</td>\n",
              "      <td>26.0</td>\n",
              "      <td>1</td>\n",
              "      <td>1</td>\n",
              "      <td>No</td>\n",
              "      <td>30170.0</td>\n",
              "      <td>26.0</td>\n",
              "      <td>88</td>\n",
              "      <td>0</td>\n",
              "    </tr>\n",
              "    <tr>\n",
              "      <th>381105</th>\n",
              "      <td>381106</td>\n",
              "      <td>Male</td>\n",
              "      <td>30</td>\n",
              "      <td>1</td>\n",
              "      <td>37.0</td>\n",
              "      <td>1</td>\n",
              "      <td>0</td>\n",
              "      <td>No</td>\n",
              "      <td>40016.0</td>\n",
              "      <td>152.0</td>\n",
              "      <td>131</td>\n",
              "      <td>0</td>\n",
              "    </tr>\n",
              "    <tr>\n",
              "      <th>381106</th>\n",
              "      <td>381107</td>\n",
              "      <td>Male</td>\n",
              "      <td>21</td>\n",
              "      <td>1</td>\n",
              "      <td>30.0</td>\n",
              "      <td>1</td>\n",
              "      <td>0</td>\n",
              "      <td>No</td>\n",
              "      <td>35118.0</td>\n",
              "      <td>160.0</td>\n",
              "      <td>161</td>\n",
              "      <td>0</td>\n",
              "    </tr>\n",
              "    <tr>\n",
              "      <th>381107</th>\n",
              "      <td>381108</td>\n",
              "      <td>Female</td>\n",
              "      <td>68</td>\n",
              "      <td>1</td>\n",
              "      <td>14.0</td>\n",
              "      <td>0</td>\n",
              "      <td>2</td>\n",
              "      <td>Yes</td>\n",
              "      <td>44617.0</td>\n",
              "      <td>124.0</td>\n",
              "      <td>74</td>\n",
              "      <td>0</td>\n",
              "    </tr>\n",
              "    <tr>\n",
              "      <th>381108</th>\n",
              "      <td>381109</td>\n",
              "      <td>Male</td>\n",
              "      <td>46</td>\n",
              "      <td>1</td>\n",
              "      <td>29.0</td>\n",
              "      <td>0</td>\n",
              "      <td>1</td>\n",
              "      <td>No</td>\n",
              "      <td>41777.0</td>\n",
              "      <td>26.0</td>\n",
              "      <td>237</td>\n",
              "      <td>0</td>\n",
              "    </tr>\n",
              "  </tbody>\n",
              "</table>\n",
              "<p>381109 rows × 12 columns</p>\n",
              "</div>"
            ],
            "text/plain": [
              "            id  Gender  Age  ...  Policy_Sales_Channel  Vintage  Response\n",
              "0            1    Male   44  ...                  26.0      217         1\n",
              "1            2    Male   76  ...                  26.0      183         0\n",
              "2            3    Male   47  ...                  26.0       27         1\n",
              "3            4    Male   21  ...                 152.0      203         0\n",
              "4            5  Female   29  ...                 152.0       39         0\n",
              "...        ...     ...  ...  ...                   ...      ...       ...\n",
              "381104  381105    Male   74  ...                  26.0       88         0\n",
              "381105  381106    Male   30  ...                 152.0      131         0\n",
              "381106  381107    Male   21  ...                 160.0      161         0\n",
              "381107  381108  Female   68  ...                 124.0       74         0\n",
              "381108  381109    Male   46  ...                  26.0      237         0\n",
              "\n",
              "[381109 rows x 12 columns]"
            ]
          },
          "metadata": {},
          "execution_count": 139
        }
      ]
    },
    {
      "cell_type": "markdown",
      "metadata": {
        "id": "IZHUV68squNF"
      },
      "source": [
        "one hot encoding"
      ]
    },
    {
      "cell_type": "code",
      "metadata": {
        "id": "V0hHXBufqq56"
      },
      "source": [
        "from sklearn.preprocessing import OneHotEncoder"
      ],
      "execution_count": null,
      "outputs": []
    },
    {
      "cell_type": "code",
      "metadata": {
        "id": "Ao7JWr_ZqwOi"
      },
      "source": [
        "ohe = OneHotEncoder(sparse = False, drop = 'first', categories = 'auto')\n",
        "ohe.fit(train[['Gender','Driving_License','Previously_Insured','Vehicle_Damage']])\n",
        "ohecategory_train = ohe.transform(train[['Gender','Driving_License','Previously_Insured','Vehicle_Damage']])\n",
        "ohecategory_test = ohe.transform(test[['Gender','Driving_License','Previously_Insured','Vehicle_Damage']])\n",
        "for i in range(ohecategory_train.shape[1]):\n",
        "    train['dummy' + str(i)] = ohecategory_train[:,i]\n",
        "\n",
        "for i in range(ohecategory_test.shape[1]):\n",
        "    test['dummy' + str(i)] = ohecategory_test[:,i]"
      ],
      "execution_count": null,
      "outputs": []
    },
    {
      "cell_type": "code",
      "metadata": {
        "colab": {
          "base_uri": "https://localhost:8080/",
          "height": 226
        },
        "id": "vj7uAvhsrERX",
        "outputId": "62cff10e-292a-4754-a34a-feb43e3f58d6"
      },
      "source": [
        "train.head()"
      ],
      "execution_count": null,
      "outputs": [
        {
          "output_type": "execute_result",
          "data": {
            "text/html": [
              "<div>\n",
              "<style scoped>\n",
              "    .dataframe tbody tr th:only-of-type {\n",
              "        vertical-align: middle;\n",
              "    }\n",
              "\n",
              "    .dataframe tbody tr th {\n",
              "        vertical-align: top;\n",
              "    }\n",
              "\n",
              "    .dataframe thead th {\n",
              "        text-align: right;\n",
              "    }\n",
              "</style>\n",
              "<table border=\"1\" class=\"dataframe\">\n",
              "  <thead>\n",
              "    <tr style=\"text-align: right;\">\n",
              "      <th></th>\n",
              "      <th>id</th>\n",
              "      <th>Gender</th>\n",
              "      <th>Age</th>\n",
              "      <th>Driving_License</th>\n",
              "      <th>Region_Code</th>\n",
              "      <th>Previously_Insured</th>\n",
              "      <th>Vehicle_Age</th>\n",
              "      <th>Vehicle_Damage</th>\n",
              "      <th>Annual_Premium</th>\n",
              "      <th>Policy_Sales_Channel</th>\n",
              "      <th>Vintage</th>\n",
              "      <th>Response</th>\n",
              "      <th>dummy0</th>\n",
              "      <th>dummy1</th>\n",
              "      <th>dummy2</th>\n",
              "      <th>dummy3</th>\n",
              "    </tr>\n",
              "  </thead>\n",
              "  <tbody>\n",
              "    <tr>\n",
              "      <th>0</th>\n",
              "      <td>1</td>\n",
              "      <td>Male</td>\n",
              "      <td>44</td>\n",
              "      <td>1</td>\n",
              "      <td>28.0</td>\n",
              "      <td>0</td>\n",
              "      <td>2</td>\n",
              "      <td>Yes</td>\n",
              "      <td>40454.0</td>\n",
              "      <td>26.0</td>\n",
              "      <td>217</td>\n",
              "      <td>1</td>\n",
              "      <td>1.0</td>\n",
              "      <td>1.0</td>\n",
              "      <td>0.0</td>\n",
              "      <td>1.0</td>\n",
              "    </tr>\n",
              "    <tr>\n",
              "      <th>1</th>\n",
              "      <td>2</td>\n",
              "      <td>Male</td>\n",
              "      <td>76</td>\n",
              "      <td>1</td>\n",
              "      <td>3.0</td>\n",
              "      <td>0</td>\n",
              "      <td>1</td>\n",
              "      <td>No</td>\n",
              "      <td>33536.0</td>\n",
              "      <td>26.0</td>\n",
              "      <td>183</td>\n",
              "      <td>0</td>\n",
              "      <td>1.0</td>\n",
              "      <td>1.0</td>\n",
              "      <td>0.0</td>\n",
              "      <td>0.0</td>\n",
              "    </tr>\n",
              "    <tr>\n",
              "      <th>2</th>\n",
              "      <td>3</td>\n",
              "      <td>Male</td>\n",
              "      <td>47</td>\n",
              "      <td>1</td>\n",
              "      <td>28.0</td>\n",
              "      <td>0</td>\n",
              "      <td>2</td>\n",
              "      <td>Yes</td>\n",
              "      <td>38294.0</td>\n",
              "      <td>26.0</td>\n",
              "      <td>27</td>\n",
              "      <td>1</td>\n",
              "      <td>1.0</td>\n",
              "      <td>1.0</td>\n",
              "      <td>0.0</td>\n",
              "      <td>1.0</td>\n",
              "    </tr>\n",
              "    <tr>\n",
              "      <th>3</th>\n",
              "      <td>4</td>\n",
              "      <td>Male</td>\n",
              "      <td>21</td>\n",
              "      <td>1</td>\n",
              "      <td>11.0</td>\n",
              "      <td>1</td>\n",
              "      <td>0</td>\n",
              "      <td>No</td>\n",
              "      <td>28619.0</td>\n",
              "      <td>152.0</td>\n",
              "      <td>203</td>\n",
              "      <td>0</td>\n",
              "      <td>1.0</td>\n",
              "      <td>1.0</td>\n",
              "      <td>1.0</td>\n",
              "      <td>0.0</td>\n",
              "    </tr>\n",
              "    <tr>\n",
              "      <th>4</th>\n",
              "      <td>5</td>\n",
              "      <td>Female</td>\n",
              "      <td>29</td>\n",
              "      <td>1</td>\n",
              "      <td>41.0</td>\n",
              "      <td>1</td>\n",
              "      <td>0</td>\n",
              "      <td>No</td>\n",
              "      <td>27496.0</td>\n",
              "      <td>152.0</td>\n",
              "      <td>39</td>\n",
              "      <td>0</td>\n",
              "      <td>0.0</td>\n",
              "      <td>1.0</td>\n",
              "      <td>1.0</td>\n",
              "      <td>0.0</td>\n",
              "    </tr>\n",
              "  </tbody>\n",
              "</table>\n",
              "</div>"
            ],
            "text/plain": [
              "   id  Gender  Age  Driving_License  ...  dummy0  dummy1  dummy2 dummy3\n",
              "0   1    Male   44                1  ...     1.0     1.0     0.0    1.0\n",
              "1   2    Male   76                1  ...     1.0     1.0     0.0    0.0\n",
              "2   3    Male   47                1  ...     1.0     1.0     0.0    1.0\n",
              "3   4    Male   21                1  ...     1.0     1.0     1.0    0.0\n",
              "4   5  Female   29                1  ...     0.0     1.0     1.0    0.0\n",
              "\n",
              "[5 rows x 16 columns]"
            ]
          },
          "metadata": {},
          "execution_count": 142
        }
      ]
    },
    {
      "cell_type": "code",
      "metadata": {
        "colab": {
          "base_uri": "https://localhost:8080/",
          "height": 226
        },
        "id": "lmWWp1XorGz5",
        "outputId": "026a080a-e29f-41b6-a4ab-8484d470e0c3"
      },
      "source": [
        "test.head()"
      ],
      "execution_count": null,
      "outputs": [
        {
          "output_type": "execute_result",
          "data": {
            "text/html": [
              "<div>\n",
              "<style scoped>\n",
              "    .dataframe tbody tr th:only-of-type {\n",
              "        vertical-align: middle;\n",
              "    }\n",
              "\n",
              "    .dataframe tbody tr th {\n",
              "        vertical-align: top;\n",
              "    }\n",
              "\n",
              "    .dataframe thead th {\n",
              "        text-align: right;\n",
              "    }\n",
              "</style>\n",
              "<table border=\"1\" class=\"dataframe\">\n",
              "  <thead>\n",
              "    <tr style=\"text-align: right;\">\n",
              "      <th></th>\n",
              "      <th>id</th>\n",
              "      <th>Gender</th>\n",
              "      <th>Age</th>\n",
              "      <th>Driving_License</th>\n",
              "      <th>Region_Code</th>\n",
              "      <th>Previously_Insured</th>\n",
              "      <th>Vehicle_Age</th>\n",
              "      <th>Vehicle_Damage</th>\n",
              "      <th>Annual_Premium</th>\n",
              "      <th>Policy_Sales_Channel</th>\n",
              "      <th>Vintage</th>\n",
              "      <th>dummy0</th>\n",
              "      <th>dummy1</th>\n",
              "      <th>dummy2</th>\n",
              "      <th>dummy3</th>\n",
              "    </tr>\n",
              "  </thead>\n",
              "  <tbody>\n",
              "    <tr>\n",
              "      <th>0</th>\n",
              "      <td>381110</td>\n",
              "      <td>Male</td>\n",
              "      <td>25</td>\n",
              "      <td>1</td>\n",
              "      <td>11.0</td>\n",
              "      <td>1</td>\n",
              "      <td>0</td>\n",
              "      <td>No</td>\n",
              "      <td>35786.0</td>\n",
              "      <td>152.0</td>\n",
              "      <td>53</td>\n",
              "      <td>1.0</td>\n",
              "      <td>1.0</td>\n",
              "      <td>1.0</td>\n",
              "      <td>0.0</td>\n",
              "    </tr>\n",
              "    <tr>\n",
              "      <th>1</th>\n",
              "      <td>381111</td>\n",
              "      <td>Male</td>\n",
              "      <td>40</td>\n",
              "      <td>1</td>\n",
              "      <td>28.0</td>\n",
              "      <td>0</td>\n",
              "      <td>1</td>\n",
              "      <td>Yes</td>\n",
              "      <td>33762.0</td>\n",
              "      <td>7.0</td>\n",
              "      <td>111</td>\n",
              "      <td>1.0</td>\n",
              "      <td>1.0</td>\n",
              "      <td>0.0</td>\n",
              "      <td>1.0</td>\n",
              "    </tr>\n",
              "    <tr>\n",
              "      <th>2</th>\n",
              "      <td>381112</td>\n",
              "      <td>Male</td>\n",
              "      <td>47</td>\n",
              "      <td>1</td>\n",
              "      <td>28.0</td>\n",
              "      <td>0</td>\n",
              "      <td>1</td>\n",
              "      <td>Yes</td>\n",
              "      <td>40050.0</td>\n",
              "      <td>124.0</td>\n",
              "      <td>199</td>\n",
              "      <td>1.0</td>\n",
              "      <td>1.0</td>\n",
              "      <td>0.0</td>\n",
              "      <td>1.0</td>\n",
              "    </tr>\n",
              "    <tr>\n",
              "      <th>3</th>\n",
              "      <td>381113</td>\n",
              "      <td>Male</td>\n",
              "      <td>24</td>\n",
              "      <td>1</td>\n",
              "      <td>27.0</td>\n",
              "      <td>1</td>\n",
              "      <td>0</td>\n",
              "      <td>Yes</td>\n",
              "      <td>37356.0</td>\n",
              "      <td>152.0</td>\n",
              "      <td>187</td>\n",
              "      <td>1.0</td>\n",
              "      <td>1.0</td>\n",
              "      <td>1.0</td>\n",
              "      <td>1.0</td>\n",
              "    </tr>\n",
              "    <tr>\n",
              "      <th>4</th>\n",
              "      <td>381114</td>\n",
              "      <td>Male</td>\n",
              "      <td>27</td>\n",
              "      <td>1</td>\n",
              "      <td>28.0</td>\n",
              "      <td>1</td>\n",
              "      <td>0</td>\n",
              "      <td>No</td>\n",
              "      <td>59097.0</td>\n",
              "      <td>152.0</td>\n",
              "      <td>297</td>\n",
              "      <td>1.0</td>\n",
              "      <td>1.0</td>\n",
              "      <td>1.0</td>\n",
              "      <td>0.0</td>\n",
              "    </tr>\n",
              "  </tbody>\n",
              "</table>\n",
              "</div>"
            ],
            "text/plain": [
              "       id Gender  Age  Driving_License  ...  dummy0  dummy1  dummy2 dummy3\n",
              "0  381110   Male   25                1  ...     1.0     1.0     1.0    0.0\n",
              "1  381111   Male   40                1  ...     1.0     1.0     0.0    1.0\n",
              "2  381112   Male   47                1  ...     1.0     1.0     0.0    1.0\n",
              "3  381113   Male   24                1  ...     1.0     1.0     1.0    1.0\n",
              "4  381114   Male   27                1  ...     1.0     1.0     1.0    0.0\n",
              "\n",
              "[5 rows x 15 columns]"
            ]
          },
          "metadata": {},
          "execution_count": 143
        }
      ]
    },
    {
      "cell_type": "markdown",
      "metadata": {
        "id": "YaV6LmwN-Qse"
      },
      "source": [
        "#Visualization(Numerical data )"
      ]
    },
    {
      "cell_type": "code",
      "metadata": {
        "colab": {
          "base_uri": "https://localhost:8080/",
          "height": 1000
        },
        "id": "uwiXqQd6rPA5",
        "outputId": "11909607-3076-4f33-9b1f-06d6d1e18a6d"
      },
      "source": [
        "for i in num_f:\n",
        "    sns.distplot(train[i])\n",
        "    plt.show()"
      ],
      "execution_count": null,
      "outputs": [
        {
          "output_type": "stream",
          "name": "stderr",
          "text": [
            "/usr/local/lib/python3.7/dist-packages/seaborn/distributions.py:2619: FutureWarning: `distplot` is a deprecated function and will be removed in a future version. Please adapt your code to use either `displot` (a figure-level function with similar flexibility) or `histplot` (an axes-level function for histograms).\n",
            "  warnings.warn(msg, FutureWarning)\n"
          ]
        },
        {
          "output_type": "display_data",
          "data": {
            "image/png": "[encoded data removed]",
            "text/plain": [
              "<Figure size 432x288 with 1 Axes>"
            ]
          },
          "metadata": {
            "needs_background": "light"
          }
        },
        {
          "output_type": "stream",
          "name": "stderr",
          "text": [
            "/usr/local/lib/python3.7/dist-packages/seaborn/distributions.py:2619: FutureWarning: `distplot` is a deprecated function and will be removed in a future version. Please adapt your code to use either `displot` (a figure-level function with similar flexibility) or `histplot` (an axes-level function for histograms).\n",
            "  warnings.warn(msg, FutureWarning)\n"
          ]
        },
        {
          "output_type": "display_data",
          "data": {
            "image/png": "[encoded data removed]",
            "text/plain": [
              "<Figure size 432x288 with 1 Axes>"
            ]
          },
          "metadata": {
            "needs_background": "light"
          }
        },
        {
          "output_type": "stream",
          "name": "stderr",
          "text": [
            "/usr/local/lib/python3.7/dist-packages/seaborn/distributions.py:2619: FutureWarning: `distplot` is a deprecated function and will be removed in a future version. Please adapt your code to use either `displot` (a figure-level function with similar flexibility) or `histplot` (an axes-level function for histograms).\n",
            "  warnings.warn(msg, FutureWarning)\n"
          ]
        },
        {
          "output_type": "display_data",
          "data": {
            "image/png": "[encoded data removed]",
            "text/plain": [
              "<Figure size 432x288 with 1 Axes>"
            ]
          },
          "metadata": {
            "needs_background": "light"
          }
        },
        {
          "output_type": "stream",
          "name": "stderr",
          "text": [
            "/usr/local/lib/python3.7/dist-packages/seaborn/distributions.py:2619: FutureWarning: `distplot` is a deprecated function and will be removed in a future version. Please adapt your code to use either `displot` (a figure-level function with similar flexibility) or `histplot` (an axes-level function for histograms).\n",
            "  warnings.warn(msg, FutureWarning)\n"
          ]
        },
        {
          "output_type": "display_data",
          "data": {
            "image/png": "[encoded data removed]",
            "text/plain": [
              "<Figure size 432x288 with 1 Axes>"
            ]
          },
          "metadata": {
            "needs_background": "light"
          }
        },
        {
          "output_type": "stream",
          "name": "stderr",
          "text": [
            "/usr/local/lib/python3.7/dist-packages/seaborn/distributions.py:2619: FutureWarning: `distplot` is a deprecated function and will be removed in a future version. Please adapt your code to use either `displot` (a figure-level function with similar flexibility) or `histplot` (an axes-level function for histograms).\n",
            "  warnings.warn(msg, FutureWarning)\n"
          ]
        },
        {
          "output_type": "display_data",
          "data": {
            "image/png": "[encoded data removed]",
            "text/plain": [
              "<Figure size 432x288 with 1 Axes>"
            ]
          },
          "metadata": {
            "needs_background": "light"
          }
        }
      ]
    },
    {
      "cell_type": "code",
      "metadata": {
        "colab": {
          "base_uri": "https://localhost:8080/"
        },
        "id": "4HK7YhC9-and",
        "outputId": "751cae82-f59a-4407-e5c2-ee904d5c4d51"
      },
      "source": [
        "print('Unique values:' )\n",
        "for i in num_f:\n",
        "    print(i,':',len(train[i].unique()))"
      ],
      "execution_count": null,
      "outputs": [
        {
          "output_type": "stream",
          "name": "stdout",
          "text": [
            "Unique values:\n",
            "Age : 66\n",
            "Region_Code : 53\n",
            "Annual_Premium : 41668\n",
            "Policy_Sales_Channel : 155\n",
            "Vintage : 290\n"
          ]
        }
      ]
    },
    {
      "cell_type": "code",
      "source": [
        "train_t = train.drop(columns = ['dummy0','dummy1','dummy2','dummy3'])"
      ],
      "metadata": {
        "id": "HWPXF_ABvdjq"
      },
      "execution_count": null,
      "outputs": []
    },
    {
      "cell_type": "code",
      "source": [
        "train_t.corr()"
      ],
      "metadata": {
        "colab": {
          "base_uri": "https://localhost:8080/",
          "height": 363
        },
        "id": "bHGuToHRskma",
        "outputId": "eb469ed9-dd28-4996-c747-33f9ee800369"
      },
      "execution_count": null,
      "outputs": [
        {
          "output_type": "execute_result",
          "data": {
            "text/html": [
              "<div>\n",
              "<style scoped>\n",
              "    .dataframe tbody tr th:only-of-type {\n",
              "        vertical-align: middle;\n",
              "    }\n",
              "\n",
              "    .dataframe tbody tr th {\n",
              "        vertical-align: top;\n",
              "    }\n",
              "\n",
              "    .dataframe thead th {\n",
              "        text-align: right;\n",
              "    }\n",
              "</style>\n",
              "<table border=\"1\" class=\"dataframe\">\n",
              "  <thead>\n",
              "    <tr style=\"text-align: right;\">\n",
              "      <th></th>\n",
              "      <th>id</th>\n",
              "      <th>Age</th>\n",
              "      <th>Driving_License</th>\n",
              "      <th>Region_Code</th>\n",
              "      <th>Previously_Insured</th>\n",
              "      <th>Vehicle_Age</th>\n",
              "      <th>Annual_Premium</th>\n",
              "      <th>Policy_Sales_Channel</th>\n",
              "      <th>Vintage</th>\n",
              "      <th>Response</th>\n",
              "    </tr>\n",
              "  </thead>\n",
              "  <tbody>\n",
              "    <tr>\n",
              "      <th>id</th>\n",
              "      <td>1.000000</td>\n",
              "      <td>0.001561</td>\n",
              "      <td>-0.000564</td>\n",
              "      <td>-0.000572</td>\n",
              "      <td>0.002457</td>\n",
              "      <td>0.000878</td>\n",
              "      <td>0.003024</td>\n",
              "      <td>-0.002837</td>\n",
              "      <td>-0.000630</td>\n",
              "      <td>-0.001368</td>\n",
              "    </tr>\n",
              "    <tr>\n",
              "      <th>Age</th>\n",
              "      <td>0.001561</td>\n",
              "      <td>1.000000</td>\n",
              "      <td>-0.079782</td>\n",
              "      <td>0.042574</td>\n",
              "      <td>-0.254682</td>\n",
              "      <td>0.765790</td>\n",
              "      <td>0.066876</td>\n",
              "      <td>-0.577826</td>\n",
              "      <td>-0.001264</td>\n",
              "      <td>0.111147</td>\n",
              "    </tr>\n",
              "    <tr>\n",
              "      <th>Driving_License</th>\n",
              "      <td>-0.000564</td>\n",
              "      <td>-0.079782</td>\n",
              "      <td>1.000000</td>\n",
              "      <td>-0.001081</td>\n",
              "      <td>0.014969</td>\n",
              "      <td>-0.037306</td>\n",
              "      <td>-0.012521</td>\n",
              "      <td>0.043731</td>\n",
              "      <td>-0.000848</td>\n",
              "      <td>0.010155</td>\n",
              "    </tr>\n",
              "    <tr>\n",
              "      <th>Region_Code</th>\n",
              "      <td>-0.000572</td>\n",
              "      <td>0.042574</td>\n",
              "      <td>-0.001081</td>\n",
              "      <td>1.000000</td>\n",
              "      <td>-0.024659</td>\n",
              "      <td>0.043778</td>\n",
              "      <td>-0.009714</td>\n",
              "      <td>-0.042420</td>\n",
              "      <td>-0.002750</td>\n",
              "      <td>0.010570</td>\n",
              "    </tr>\n",
              "    <tr>\n",
              "      <th>Previously_Insured</th>\n",
              "      <td>0.002457</td>\n",
              "      <td>-0.254682</td>\n",
              "      <td>0.014969</td>\n",
              "      <td>-0.024659</td>\n",
              "      <td>1.000000</td>\n",
              "      <td>-0.380873</td>\n",
              "      <td>0.007220</td>\n",
              "      <td>0.219381</td>\n",
              "      <td>0.002537</td>\n",
              "      <td>-0.341170</td>\n",
              "    </tr>\n",
              "    <tr>\n",
              "      <th>Vehicle_Age</th>\n",
              "      <td>0.000878</td>\n",
              "      <td>0.765790</td>\n",
              "      <td>-0.037306</td>\n",
              "      <td>0.043778</td>\n",
              "      <td>-0.380873</td>\n",
              "      <td>1.000000</td>\n",
              "      <td>0.039417</td>\n",
              "      <td>-0.550663</td>\n",
              "      <td>-0.001892</td>\n",
              "      <td>0.221874</td>\n",
              "    </tr>\n",
              "    <tr>\n",
              "      <th>Annual_Premium</th>\n",
              "      <td>0.003024</td>\n",
              "      <td>0.066876</td>\n",
              "      <td>-0.012521</td>\n",
              "      <td>-0.009714</td>\n",
              "      <td>0.007220</td>\n",
              "      <td>0.039417</td>\n",
              "      <td>1.000000</td>\n",
              "      <td>-0.118185</td>\n",
              "      <td>-0.000772</td>\n",
              "      <td>0.022054</td>\n",
              "    </tr>\n",
              "    <tr>\n",
              "      <th>Policy_Sales_Channel</th>\n",
              "      <td>-0.002837</td>\n",
              "      <td>-0.577826</td>\n",
              "      <td>0.043731</td>\n",
              "      <td>-0.042420</td>\n",
              "      <td>0.219381</td>\n",
              "      <td>-0.550663</td>\n",
              "      <td>-0.118185</td>\n",
              "      <td>1.000000</td>\n",
              "      <td>0.000002</td>\n",
              "      <td>-0.139042</td>\n",
              "    </tr>\n",
              "    <tr>\n",
              "      <th>Vintage</th>\n",
              "      <td>-0.000630</td>\n",
              "      <td>-0.001264</td>\n",
              "      <td>-0.000848</td>\n",
              "      <td>-0.002750</td>\n",
              "      <td>0.002537</td>\n",
              "      <td>-0.001892</td>\n",
              "      <td>-0.000772</td>\n",
              "      <td>0.000002</td>\n",
              "      <td>1.000000</td>\n",
              "      <td>-0.001050</td>\n",
              "    </tr>\n",
              "    <tr>\n",
              "      <th>Response</th>\n",
              "      <td>-0.001368</td>\n",
              "      <td>0.111147</td>\n",
              "      <td>0.010155</td>\n",
              "      <td>0.010570</td>\n",
              "      <td>-0.341170</td>\n",
              "      <td>0.221874</td>\n",
              "      <td>0.022054</td>\n",
              "      <td>-0.139042</td>\n",
              "      <td>-0.001050</td>\n",
              "      <td>1.000000</td>\n",
              "    </tr>\n",
              "  </tbody>\n",
              "</table>\n",
              "</div>"
            ],
            "text/plain": [
              "                            id       Age  ...   Vintage  Response\n",
              "id                    1.000000  0.001561  ... -0.000630 -0.001368\n",
              "Age                   0.001561  1.000000  ... -0.001264  0.111147\n",
              "Driving_License      -0.000564 -0.079782  ... -0.000848  0.010155\n",
              "Region_Code          -0.000572  0.042574  ... -0.002750  0.010570\n",
              "Previously_Insured    0.002457 -0.254682  ...  0.002537 -0.341170\n",
              "Vehicle_Age           0.000878  0.765790  ... -0.001892  0.221874\n",
              "Annual_Premium        0.003024  0.066876  ... -0.000772  0.022054\n",
              "Policy_Sales_Channel -0.002837 -0.577826  ...  0.000002 -0.139042\n",
              "Vintage              -0.000630 -0.001264  ...  1.000000 -0.001050\n",
              "Response             -0.001368  0.111147  ... -0.001050  1.000000\n",
              "\n",
              "[10 rows x 10 columns]"
            ]
          },
          "metadata": {},
          "execution_count": 147
        }
      ]
    },
    {
      "cell_type": "code",
      "metadata": {
        "colab": {
          "base_uri": "https://localhost:8080/",
          "height": 383
        },
        "id": "1K_IZyCO-wX_",
        "outputId": "ca3b4265-b54e-45b2-a175-eeb507306898"
      },
      "source": [
        "sns.heatmap(train_t.corr())"
      ],
      "execution_count": null,
      "outputs": [
        {
          "output_type": "execute_result",
          "data": {
            "text/plain": [
              "<matplotlib.axes._subplots.AxesSubplot at 0x7fa21fbe8c90>"
            ]
          },
          "metadata": {},
          "execution_count": 148
        },
        {
          "output_type": "display_data",
          "data": {
            "image/png": "[encoded data removed]",
            "text/plain": [
              "<Figure size 432x288 with 2 Axes>"
            ]
          },
          "metadata": {
            "needs_background": "light"
          }
        }
      ]
    },
    {
      "cell_type": "markdown",
      "metadata": {
        "id": "60KYg_-L6ciI"
      },
      "source": [
        "#Feature Selection with hypothesis test"
      ]
    },
    {
      "cell_type": "markdown",
      "metadata": {
        "id": "Fy5jmm7e6cN6"
      },
      "source": [
        "Chi-test: It is help to figure-out relation between features and label with \"pvalue <= 0.1\""
      ]
    },
    {
      "cell_type": "code",
      "source": [
        "k = pd.crosstab(train['Vintage'],train['Response'])"
      ],
      "metadata": {
        "id": "2Ah5u8xpHi2_"
      },
      "execution_count": null,
      "outputs": []
    },
    {
      "cell_type": "code",
      "source": [
        "k"
      ],
      "metadata": {
        "colab": {
          "base_uri": "https://localhost:8080/",
          "height": 455
        },
        "id": "h7BKGs2UHwEV",
        "outputId": "f7ad4df3-5c3e-400c-d6dd-a7e88fd19da8"
      },
      "execution_count": null,
      "outputs": [
        {
          "output_type": "execute_result",
          "data": {
            "text/html": [
              "<div>\n",
              "<style scoped>\n",
              "    .dataframe tbody tr th:only-of-type {\n",
              "        vertical-align: middle;\n",
              "    }\n",
              "\n",
              "    .dataframe tbody tr th {\n",
              "        vertical-align: top;\n",
              "    }\n",
              "\n",
              "    .dataframe thead th {\n",
              "        text-align: right;\n",
              "    }\n",
              "</style>\n",
              "<table border=\"1\" class=\"dataframe\">\n",
              "  <thead>\n",
              "    <tr style=\"text-align: right;\">\n",
              "      <th>Response</th>\n",
              "      <th>0</th>\n",
              "      <th>1</th>\n",
              "    </tr>\n",
              "    <tr>\n",
              "      <th>Vintage</th>\n",
              "      <th></th>\n",
              "      <th></th>\n",
              "    </tr>\n",
              "  </thead>\n",
              "  <tbody>\n",
              "    <tr>\n",
              "      <th>10</th>\n",
              "      <td>1164</td>\n",
              "      <td>147</td>\n",
              "    </tr>\n",
              "    <tr>\n",
              "      <th>11</th>\n",
              "      <td>1153</td>\n",
              "      <td>191</td>\n",
              "    </tr>\n",
              "    <tr>\n",
              "      <th>12</th>\n",
              "      <td>1092</td>\n",
              "      <td>165</td>\n",
              "    </tr>\n",
              "    <tr>\n",
              "      <th>13</th>\n",
              "      <td>1145</td>\n",
              "      <td>184</td>\n",
              "    </tr>\n",
              "    <tr>\n",
              "      <th>14</th>\n",
              "      <td>1104</td>\n",
              "      <td>156</td>\n",
              "    </tr>\n",
              "    <tr>\n",
              "      <th>...</th>\n",
              "      <td>...</td>\n",
              "      <td>...</td>\n",
              "    </tr>\n",
              "    <tr>\n",
              "      <th>295</th>\n",
              "      <td>1118</td>\n",
              "      <td>157</td>\n",
              "    </tr>\n",
              "    <tr>\n",
              "      <th>296</th>\n",
              "      <td>1146</td>\n",
              "      <td>156</td>\n",
              "    </tr>\n",
              "    <tr>\n",
              "      <th>297</th>\n",
              "      <td>1142</td>\n",
              "      <td>142</td>\n",
              "    </tr>\n",
              "    <tr>\n",
              "      <th>298</th>\n",
              "      <td>1198</td>\n",
              "      <td>186</td>\n",
              "    </tr>\n",
              "    <tr>\n",
              "      <th>299</th>\n",
              "      <td>1114</td>\n",
              "      <td>169</td>\n",
              "    </tr>\n",
              "  </tbody>\n",
              "</table>\n",
              "<p>290 rows × 2 columns</p>\n",
              "</div>"
            ],
            "text/plain": [
              "Response     0    1\n",
              "Vintage            \n",
              "10        1164  147\n",
              "11        1153  191\n",
              "12        1092  165\n",
              "13        1145  184\n",
              "14        1104  156\n",
              "...        ...  ...\n",
              "295       1118  157\n",
              "296       1146  156\n",
              "297       1142  142\n",
              "298       1198  186\n",
              "299       1114  169\n",
              "\n",
              "[290 rows x 2 columns]"
            ]
          },
          "metadata": {},
          "execution_count": 150
        }
      ]
    },
    {
      "cell_type": "code",
      "metadata": {
        "colab": {
          "base_uri": "https://localhost:8080/"
        },
        "id": "rkZpWgwO6X5O",
        "outputId": "0d1b25ba-8a8d-4dc9-e58b-c0370d767191"
      },
      "source": [
        "#Here, the Null Hypothesis (H0): Vintage and Response are independent. \n",
        "#Alternate Hypothesis (H1): Vintage and Response variables are not independent.\n",
        "\n",
        "ct = pd.crosstab(train['Vintage'],train['Response'])\n",
        "from scipy.stats import chi2_contingency\n",
        "stat,pvalue,dof,expected_R = chi2_contingency(ct)\n",
        "print(\"pvalue : \",pvalue)\n",
        "\n",
        "if pvalue <= 0.01:\n",
        "    print(\"Alternate Hypothesis passed. Vintage and Response have Relationship\")\n",
        "else:\n",
        "    print(\"Null hypothesis passed. Vintage and Response doesnot have  Relationship\")"
      ],
      "execution_count": null,
      "outputs": [
        {
          "output_type": "stream",
          "name": "stdout",
          "text": [
            "pvalue :  0.8862939415964791\n",
            "Null hypothesis passed. Vintage and Response doesnot have  Relationship\n"
          ]
        }
      ]
    },
    {
      "cell_type": "code",
      "metadata": {
        "colab": {
          "base_uri": "https://localhost:8080/"
        },
        "id": "Zjs06eW7NvGq",
        "outputId": "7276e583-9408-440c-9f98-886e9118afc3"
      },
      "source": [
        "ct = pd.crosstab(train['Annual_Premium'],train['Response'])\n",
        "from scipy.stats import chi2_contingency\n",
        "stat,pvalue,dof,expected_R = chi2_contingency(ct)\n",
        "print(\"pvalue : \",pvalue)\n",
        "\n",
        "if pvalue <= 0.01:\n",
        "    print(\"Alternate Hypothesis passed. Annual_Premium and Response have Relationship\")\n",
        "else:\n",
        "    print(\"Null hypothesis passed. Annual_Premium and Response doesnot have  Relationship\")"
      ],
      "execution_count": null,
      "outputs": [
        {
          "output_type": "stream",
          "name": "stdout",
          "text": [
            "pvalue :  2.187433386741815e-15\n",
            "Alternate Hypothesis passed. Annual_Premium and Response have Relationship\n"
          ]
        }
      ]
    },
    {
      "cell_type": "code",
      "metadata": {
        "colab": {
          "base_uri": "https://localhost:8080/"
        },
        "id": "xAHhSlsjOQEe",
        "outputId": "ea80b113-6ffc-47b6-c8b1-da39756f87ac"
      },
      "source": [
        "ct = pd.crosstab(train['Policy_Sales_Channel'],train['Response'])\n",
        "from scipy.stats import chi2_contingency\n",
        "stat,pvalue,dof,expected_R = chi2_contingency(ct)\n",
        "print(\"pvalue : \",pvalue)\n",
        "\n",
        "if pvalue <= 0.01:\n",
        "    print(\"Alternate Hypothesis passed. Policy_Sales_Channel and Response have Relationship\")\n",
        "else:\n",
        "    print(\"Null hypothesis passed. Policy_Sales_Channel and Response doesnot have  Relationship\")"
      ],
      "execution_count": null,
      "outputs": [
        {
          "output_type": "stream",
          "name": "stdout",
          "text": [
            "pvalue :  0.0\n",
            "Alternate Hypothesis passed. Policy_Sales_Channel and Response have Relationship\n"
          ]
        }
      ]
    },
    {
      "cell_type": "code",
      "source": [
        "df_clean = train.copy()"
      ],
      "metadata": {
        "id": "VfjmC2gIK6bh"
      },
      "execution_count": null,
      "outputs": []
    },
    {
      "cell_type": "code",
      "source": [
        "#feature selection test for categorical data\n",
        "from scipy.stats import f_oneway, ttest_ind, chi2_contingency\n",
        "\n",
        "\n",
        "for i in cat_f:\n",
        "    crosstab = pd.crosstab(df_clean['Response'], train[i])\n",
        "    #print(crosstab)\n",
        "    stat,p_value,_,_=chi2_contingency(crosstab)\n",
        "   \n",
        "    if p_value < 0.01:\n",
        "        print(f\"Feature {i} has significant difference in Output feature with p_value {np.round(p_value,3)}\")\n",
        "    else:\n",
        "        print(f\"Feature {i} has no significant difference in Output feature with p_value {np.round(p_value,3)}\")"
      ],
      "metadata": {
        "colab": {
          "base_uri": "https://localhost:8080/"
        },
        "id": "e2TfB74VKwhZ",
        "outputId": "1066be3c-5580-4b4d-afbd-7c2c58aa9d14"
      },
      "execution_count": null,
      "outputs": [
        {
          "output_type": "stream",
          "name": "stdout",
          "text": [
            "Feature Gender has significant difference in Output feature with p_value 0.0\n",
            "Feature Driving_License has significant difference in Output feature with p_value 0.0\n",
            "Feature Previously_Insured has significant difference in Output feature with p_value 0.0\n",
            "Feature Vehicle_Age has significant difference in Output feature with p_value 0.0\n",
            "Feature Vehicle_Damage has significant difference in Output feature with p_value 0.0\n"
          ]
        }
      ]
    },
    {
      "cell_type": "code",
      "metadata": {
        "id": "e3w8IOaHOP8v"
      },
      "source": [
        "train_data_1 = train.loc[:,['Response','Gender','Age','Driving_License','Region_Code','Previously_Insured','Vehicle_Age','Vehicle_Damage','Annual_Premium','Policy_Sales_Channel']]\n",
        "\n",
        "#here, since the Vitage feature has no relationship with our target feauture 'Response', hence it's got removed"
      ],
      "execution_count": null,
      "outputs": []
    },
    {
      "cell_type": "code",
      "metadata": {
        "id": "SWCmj86yOP1e"
      },
      "source": [
        "final_train_data = pd.get_dummies(train_data_1)"
      ],
      "execution_count": null,
      "outputs": []
    },
    {
      "cell_type": "code",
      "metadata": {
        "colab": {
          "base_uri": "https://localhost:8080/"
        },
        "id": "tkZN4mm1OPsN",
        "outputId": "a39d50d7-9252-43df-c996-1686a0c9d153"
      },
      "source": [
        "final_train_data.columns"
      ],
      "execution_count": null,
      "outputs": [
        {
          "output_type": "execute_result",
          "data": {
            "text/plain": [
              "Index(['Response', 'Age', 'Driving_License', 'Region_Code',\n",
              "       'Previously_Insured', 'Vehicle_Age', 'Annual_Premium',\n",
              "       'Policy_Sales_Channel', 'Gender_Female', 'Gender_Male',\n",
              "       'Vehicle_Damage_No', 'Vehicle_Damage_Yes'],\n",
              "      dtype='object')"
            ]
          },
          "metadata": {},
          "execution_count": 158
        }
      ]
    },
    {
      "cell_type": "code",
      "metadata": {
        "id": "6XdnJ8lfPQde"
      },
      "source": [
        "features = final_train_data.iloc[:,1:].values\n",
        "label = final_train_data.iloc[:,0].values"
      ],
      "execution_count": null,
      "outputs": []
    },
    {
      "cell_type": "markdown",
      "source": [
        "#Hypothesis Testing"
      ],
      "metadata": {
        "id": "nn5NUsfT0V0p"
      }
    },
    {
      "cell_type": "code",
      "source": [
        "final_train_data"
      ],
      "metadata": {
        "colab": {
          "base_uri": "https://localhost:8080/",
          "height": 443
        },
        "id": "BxzWpsJH0WcG",
        "outputId": "b2aa0fce-06a0-4099-9c27-8d776322cf31"
      },
      "execution_count": null,
      "outputs": [
        {
          "output_type": "execute_result",
          "data": {
            "text/html": [
              "<div>\n",
              "<style scoped>\n",
              "    .dataframe tbody tr th:only-of-type {\n",
              "        vertical-align: middle;\n",
              "    }\n",
              "\n",
              "    .dataframe tbody tr th {\n",
              "        vertical-align: top;\n",
              "    }\n",
              "\n",
              "    .dataframe thead th {\n",
              "        text-align: right;\n",
              "    }\n",
              "</style>\n",
              "<table border=\"1\" class=\"dataframe\">\n",
              "  <thead>\n",
              "    <tr style=\"text-align: right;\">\n",
              "      <th></th>\n",
              "      <th>Response</th>\n",
              "      <th>Age</th>\n",
              "      <th>Driving_License</th>\n",
              "      <th>Region_Code</th>\n",
              "      <th>Previously_Insured</th>\n",
              "      <th>Vehicle_Age</th>\n",
              "      <th>Annual_Premium</th>\n",
              "      <th>Policy_Sales_Channel</th>\n",
              "      <th>Gender_Female</th>\n",
              "      <th>Gender_Male</th>\n",
              "      <th>Vehicle_Damage_No</th>\n",
              "      <th>Vehicle_Damage_Yes</th>\n",
              "    </tr>\n",
              "  </thead>\n",
              "  <tbody>\n",
              "    <tr>\n",
              "      <th>0</th>\n",
              "      <td>1</td>\n",
              "      <td>44</td>\n",
              "      <td>1</td>\n",
              "      <td>28.0</td>\n",
              "      <td>0</td>\n",
              "      <td>2</td>\n",
              "      <td>40454.0</td>\n",
              "      <td>26.0</td>\n",
              "      <td>0</td>\n",
              "      <td>1</td>\n",
              "      <td>0</td>\n",
              "      <td>1</td>\n",
              "    </tr>\n",
              "    <tr>\n",
              "      <th>1</th>\n",
              "      <td>0</td>\n",
              "      <td>76</td>\n",
              "      <td>1</td>\n",
              "      <td>3.0</td>\n",
              "      <td>0</td>\n",
              "      <td>1</td>\n",
              "      <td>33536.0</td>\n",
              "      <td>26.0</td>\n",
              "      <td>0</td>\n",
              "      <td>1</td>\n",
              "      <td>1</td>\n",
              "      <td>0</td>\n",
              "    </tr>\n",
              "    <tr>\n",
              "      <th>2</th>\n",
              "      <td>1</td>\n",
              "      <td>47</td>\n",
              "      <td>1</td>\n",
              "      <td>28.0</td>\n",
              "      <td>0</td>\n",
              "      <td>2</td>\n",
              "      <td>38294.0</td>\n",
              "      <td>26.0</td>\n",
              "      <td>0</td>\n",
              "      <td>1</td>\n",
              "      <td>0</td>\n",
              "      <td>1</td>\n",
              "    </tr>\n",
              "    <tr>\n",
              "      <th>3</th>\n",
              "      <td>0</td>\n",
              "      <td>21</td>\n",
              "      <td>1</td>\n",
              "      <td>11.0</td>\n",
              "      <td>1</td>\n",
              "      <td>0</td>\n",
              "      <td>28619.0</td>\n",
              "      <td>152.0</td>\n",
              "      <td>0</td>\n",
              "      <td>1</td>\n",
              "      <td>1</td>\n",
              "      <td>0</td>\n",
              "    </tr>\n",
              "    <tr>\n",
              "      <th>4</th>\n",
              "      <td>0</td>\n",
              "      <td>29</td>\n",
              "      <td>1</td>\n",
              "      <td>41.0</td>\n",
              "      <td>1</td>\n",
              "      <td>0</td>\n",
              "      <td>27496.0</td>\n",
              "      <td>152.0</td>\n",
              "      <td>1</td>\n",
              "      <td>0</td>\n",
              "      <td>1</td>\n",
              "      <td>0</td>\n",
              "    </tr>\n",
              "    <tr>\n",
              "      <th>...</th>\n",
              "      <td>...</td>\n",
              "      <td>...</td>\n",
              "      <td>...</td>\n",
              "      <td>...</td>\n",
              "      <td>...</td>\n",
              "      <td>...</td>\n",
              "      <td>...</td>\n",
              "      <td>...</td>\n",
              "      <td>...</td>\n",
              "      <td>...</td>\n",
              "      <td>...</td>\n",
              "      <td>...</td>\n",
              "    </tr>\n",
              "    <tr>\n",
              "      <th>381104</th>\n",
              "      <td>0</td>\n",
              "      <td>74</td>\n",
              "      <td>1</td>\n",
              "      <td>26.0</td>\n",
              "      <td>1</td>\n",
              "      <td>1</td>\n",
              "      <td>30170.0</td>\n",
              "      <td>26.0</td>\n",
              "      <td>0</td>\n",
              "      <td>1</td>\n",
              "      <td>1</td>\n",
              "      <td>0</td>\n",
              "    </tr>\n",
              "    <tr>\n",
              "      <th>381105</th>\n",
              "      <td>0</td>\n",
              "      <td>30</td>\n",
              "      <td>1</td>\n",
              "      <td>37.0</td>\n",
              "      <td>1</td>\n",
              "      <td>0</td>\n",
              "      <td>40016.0</td>\n",
              "      <td>152.0</td>\n",
              "      <td>0</td>\n",
              "      <td>1</td>\n",
              "      <td>1</td>\n",
              "      <td>0</td>\n",
              "    </tr>\n",
              "    <tr>\n",
              "      <th>381106</th>\n",
              "      <td>0</td>\n",
              "      <td>21</td>\n",
              "      <td>1</td>\n",
              "      <td>30.0</td>\n",
              "      <td>1</td>\n",
              "      <td>0</td>\n",
              "      <td>35118.0</td>\n",
              "      <td>160.0</td>\n",
              "      <td>0</td>\n",
              "      <td>1</td>\n",
              "      <td>1</td>\n",
              "      <td>0</td>\n",
              "    </tr>\n",
              "    <tr>\n",
              "      <th>381107</th>\n",
              "      <td>0</td>\n",
              "      <td>68</td>\n",
              "      <td>1</td>\n",
              "      <td>14.0</td>\n",
              "      <td>0</td>\n",
              "      <td>2</td>\n",
              "      <td>44617.0</td>\n",
              "      <td>124.0</td>\n",
              "      <td>1</td>\n",
              "      <td>0</td>\n",
              "      <td>0</td>\n",
              "      <td>1</td>\n",
              "    </tr>\n",
              "    <tr>\n",
              "      <th>381108</th>\n",
              "      <td>0</td>\n",
              "      <td>46</td>\n",
              "      <td>1</td>\n",
              "      <td>29.0</td>\n",
              "      <td>0</td>\n",
              "      <td>1</td>\n",
              "      <td>41777.0</td>\n",
              "      <td>26.0</td>\n",
              "      <td>0</td>\n",
              "      <td>1</td>\n",
              "      <td>1</td>\n",
              "      <td>0</td>\n",
              "    </tr>\n",
              "  </tbody>\n",
              "</table>\n",
              "<p>381109 rows × 12 columns</p>\n",
              "</div>"
            ],
            "text/plain": [
              "        Response  Age  ...  Vehicle_Damage_No  Vehicle_Damage_Yes\n",
              "0              1   44  ...                  0                   1\n",
              "1              0   76  ...                  1                   0\n",
              "2              1   47  ...                  0                   1\n",
              "3              0   21  ...                  1                   0\n",
              "4              0   29  ...                  1                   0\n",
              "...          ...  ...  ...                ...                 ...\n",
              "381104         0   74  ...                  1                   0\n",
              "381105         0   30  ...                  1                   0\n",
              "381106         0   21  ...                  1                   0\n",
              "381107         0   68  ...                  0                   1\n",
              "381108         0   46  ...                  1                   0\n",
              "\n",
              "[381109 rows x 12 columns]"
            ]
          },
          "metadata": {},
          "execution_count": 160
        }
      ]
    },
    {
      "cell_type": "code",
      "source": [
        "final_train_data['Annual_Premium'].mean()"
      ],
      "metadata": {
        "colab": {
          "base_uri": "https://localhost:8080/"
        },
        "id": "f65movpo09Rk",
        "outputId": "a9c64fb6-3deb-49c6-b9e1-2e0d3024b1d0"
      },
      "execution_count": null,
      "outputs": [
        {
          "output_type": "execute_result",
          "data": {
            "text/plain": [
              "30148.169353124696"
            ]
          },
          "metadata": {},
          "execution_count": 161
        }
      ]
    },
    {
      "cell_type": "code",
      "source": [
        "final_train_data['Annual_Premium'].std()"
      ],
      "metadata": {
        "colab": {
          "base_uri": "https://localhost:8080/"
        },
        "id": "qdD3Nl2N09OZ",
        "outputId": "2cb7e7fd-96f2-4063-a763-578594c3a170"
      },
      "execution_count": null,
      "outputs": [
        {
          "output_type": "execute_result",
          "data": {
            "text/plain": [
              "15476.398118073375"
            ]
          },
          "metadata": {},
          "execution_count": 162
        }
      ]
    },
    {
      "cell_type": "code",
      "source": [
        "import scipy.stats as st"
      ],
      "metadata": {
        "id": "atCApNkA09MF"
      },
      "execution_count": null,
      "outputs": []
    },
    {
      "cell_type": "code",
      "source": [
        "data = final_train_data['Annual_Premium'].sample(32,random_state=101)"
      ],
      "metadata": {
        "id": "G218lCdk08sj"
      },
      "execution_count": null,
      "outputs": []
    },
    {
      "cell_type": "code",
      "source": [
        "data = pd.DataFrame(data)"
      ],
      "metadata": {
        "id": "n-kxgogk5AYP"
      },
      "execution_count": null,
      "outputs": []
    },
    {
      "cell_type": "code",
      "source": [
        "data['Annual_Premium'].mean()   #sample mean"
      ],
      "metadata": {
        "colab": {
          "base_uri": "https://localhost:8080/"
        },
        "id": "TPHD3JCF5Ryn",
        "outputId": "b2f12ac2-5014-4b71-bfcb-fdf8c23fec33"
      },
      "execution_count": null,
      "outputs": [
        {
          "output_type": "execute_result",
          "data": {
            "text/plain": [
              "32110.0625"
            ]
          },
          "metadata": {},
          "execution_count": 166
        }
      ]
    },
    {
      "cell_type": "code",
      "source": [
        "st.norm.interval(alpha=0.10,loc=np.mean(data),scale=st.sem(data))"
      ],
      "metadata": {
        "colab": {
          "base_uri": "https://localhost:8080/"
        },
        "id": "1pEPO3IN08lR",
        "outputId": "ed2b6403-9dad-441b-f16c-e1e46d3ab8d5"
      },
      "execution_count": null,
      "outputs": [
        {
          "output_type": "execute_result",
          "data": {
            "text/plain": [
              "(array([31772.64208288]), array([32447.48291712]))"
            ]
          },
          "metadata": {},
          "execution_count": 167
        }
      ]
    },
    {
      "cell_type": "code",
      "source": [
        "np.std(data)"
      ],
      "metadata": {
        "colab": {
          "base_uri": "https://localhost:8080/"
        },
        "id": "aKU5-oWd08eR",
        "outputId": "11fd14b3-d134-4e98-be32-5610cb7b7ace"
      },
      "execution_count": null,
      "outputs": [
        {
          "output_type": "execute_result",
          "data": {
            "text/plain": [
              "Annual_Premium    14950.320212\n",
              "dtype: float64"
            ]
          },
          "metadata": {},
          "execution_count": 168
        }
      ]
    },
    {
      "cell_type": "code",
      "source": [
        "z_critical=abs(st.norm.ppf(0.10/2))\n",
        "z_critical"
      ],
      "metadata": {
        "colab": {
          "base_uri": "https://localhost:8080/"
        },
        "id": "zzqSpMKu23np",
        "outputId": "7a23a76c-e10c-4e90-a1b3-9c6d11f08960"
      },
      "execution_count": null,
      "outputs": [
        {
          "output_type": "execute_result",
          "data": {
            "text/plain": [
              "1.6448536269514729"
            ]
          },
          "metadata": {},
          "execution_count": 169
        }
      ]
    },
    {
      "cell_type": "markdown",
      "source": [
        "Considering the Annual Premium of the Cistomers, we can tell that the average Annual Premium is 30148.12 rupees. A sample of 32 persons has an average Annual Premium of 32110 rupees. The standard deviation of the Annual Premium is 15476.4 rupees. At α = 0.1, is there enough evidence to reject the claim."
      ],
      "metadata": {
        "id": "GBCciouj3BA5"
      }
    },
    {
      "cell_type": "code",
      "source": [
        "#H0 : mu=30148.12,  Ha : != mu\n",
        "n = 32                                   # random sample\n",
        "xbar =  32110                            #sample mean\n",
        "mu = 30148.12                            #population mean\n",
        "sigma =  15476.4                         #population standard deviation\n",
        "alpha = 0.1"
      ],
      "metadata": {
        "id": "UsdCWdzT23l-"
      },
      "execution_count": null,
      "outputs": []
    },
    {
      "cell_type": "code",
      "source": [
        "z=(xbar-mu)/(sigma/np.sqrt(n))\n",
        "z"
      ],
      "metadata": {
        "colab": {
          "base_uri": "https://localhost:8080/"
        },
        "id": "IJrp9NAz23i6",
        "outputId": "60ae60fd-59db-4ab0-e3e8-01d720189728"
      },
      "execution_count": null,
      "outputs": [
        {
          "output_type": "execute_result",
          "data": {
            "text/plain": [
              "0.7170963024342947"
            ]
          },
          "metadata": {},
          "execution_count": 211
        }
      ]
    },
    {
      "cell_type": "code",
      "source": [
        "p_val=(1-st.norm.cdf(z))*2\n",
        "p_val"
      ],
      "metadata": {
        "colab": {
          "base_uri": "https://localhost:8080/"
        },
        "id": "yKtprf7s23hC",
        "outputId": "e2cefc2b-34ce-46d9-f323-e0f6dedc222b"
      },
      "execution_count": null,
      "outputs": [
        {
          "output_type": "execute_result",
          "data": {
            "text/plain": [
              "0.4733146771140899"
            ]
          },
          "metadata": {},
          "execution_count": 212
        }
      ]
    },
    {
      "cell_type": "code",
      "source": [
        "if(p_val>alpha): #2 tailed\n",
        "  print('Accept Null hypothesis')\n",
        "else:\n",
        "  print('Reject Null Hypothesis')"
      ],
      "metadata": {
        "colab": {
          "base_uri": "https://localhost:8080/"
        },
        "id": "q0eSqNYa08W4",
        "outputId": "de40d187-325c-489d-ba1f-e1f7a5aa50dc"
      },
      "execution_count": null,
      "outputs": [
        {
          "output_type": "stream",
          "name": "stdout",
          "text": [
            "Accept Null hypothesis\n"
          ]
        }
      ]
    },
    {
      "cell_type": "markdown",
      "source": [
        "# T-Test"
      ],
      "metadata": {
        "id": "mzNQLzwu6sxU"
      }
    },
    {
      "cell_type": "code",
      "source": [
        "final_train_data['Annual_Premium'].mean()"
      ],
      "metadata": {
        "colab": {
          "base_uri": "https://localhost:8080/"
        },
        "id": "iBXPsKaP08O0",
        "outputId": "6627f2d1-b432-4d8c-9303-38ec7707ab3d"
      },
      "execution_count": null,
      "outputs": [
        {
          "output_type": "execute_result",
          "data": {
            "text/plain": [
              "30148.169353124696"
            ]
          },
          "metadata": {},
          "execution_count": 174
        }
      ]
    },
    {
      "cell_type": "code",
      "source": [
        "dataf = final_train_data['Annual_Premium'].sample(10,random_state=101)"
      ],
      "metadata": {
        "id": "Fi5EbBZH6qSZ"
      },
      "execution_count": null,
      "outputs": []
    },
    {
      "cell_type": "code",
      "source": [
        "st.norm.interval(alpha=0.10,loc=np.mean(dataf),scale=st.sem(dataf))"
      ],
      "metadata": {
        "colab": {
          "base_uri": "https://localhost:8080/"
        },
        "id": "UFXCkykX6qQw",
        "outputId": "298ef4e7-cf79-4aa2-808e-35a8d1b663f2"
      },
      "execution_count": null,
      "outputs": [
        {
          "output_type": "execute_result",
          "data": {
            "text/plain": [
              "(34430.977613605566, 35668.62238639445)"
            ]
          },
          "metadata": {},
          "execution_count": 176
        }
      ]
    },
    {
      "cell_type": "code",
      "source": [
        "np.std(dataf)"
      ],
      "metadata": {
        "colab": {
          "base_uri": "https://localhost:8080/"
        },
        "id": "Dv80SbuY6qNw",
        "outputId": "c817014b-35d3-4560-9402-2879bcbeb404"
      },
      "execution_count": null,
      "outputs": [
        {
          "output_type": "execute_result",
          "data": {
            "text/plain": [
              "14773.573621842483"
            ]
          },
          "metadata": {},
          "execution_count": 177
        }
      ]
    },
    {
      "cell_type": "code",
      "source": [
        "np.mean(dataf)"
      ],
      "metadata": {
        "colab": {
          "base_uri": "https://localhost:8080/"
        },
        "id": "prCJpSOR6qLv",
        "outputId": "601db5f2-dce6-4905-a858-c98f20656ac3"
      },
      "execution_count": null,
      "outputs": [
        {
          "output_type": "execute_result",
          "data": {
            "text/plain": [
              "35049.8"
            ]
          },
          "metadata": {},
          "execution_count": 178
        }
      ]
    },
    {
      "cell_type": "code",
      "source": [
        "#H0 : mu=30148.12  Ha :  mu!=99.2\n",
        "n = 10                            # random sample\n",
        "degrees_of_freedom = n-1\n",
        "xbar = 35049.8                    #sample mean\n",
        "mu = 30148.12                     #population mean\n",
        "sigma =  14773.5                  #sample standard deviation\n",
        "alpha = 0.1"
      ],
      "metadata": {
        "id": "nQzTk0756qIZ"
      },
      "execution_count": null,
      "outputs": []
    },
    {
      "cell_type": "code",
      "source": [
        "t=(xbar-mu)/(sigma/np.sqrt(n))\n",
        "t"
      ],
      "metadata": {
        "colab": {
          "base_uri": "https://localhost:8080/"
        },
        "id": "MrtiR7b46qGj",
        "outputId": "fbea5aa9-94f1-4617-88e8-bcb4380ec909"
      },
      "execution_count": null,
      "outputs": [
        {
          "output_type": "execute_result",
          "data": {
            "text/plain": [
              "1.0492079169657937"
            ]
          },
          "metadata": {},
          "execution_count": 180
        }
      ]
    },
    {
      "cell_type": "code",
      "source": [
        "t_critical=abs(st.t.ppf(alpha/2,degrees_of_freedom))\n",
        "t_critical"
      ],
      "metadata": {
        "colab": {
          "base_uri": "https://localhost:8080/"
        },
        "id": "ApY8TZEd6p7-",
        "outputId": "508c026d-7914-42ef-bf54-e7af12f5ac5a"
      },
      "execution_count": null,
      "outputs": [
        {
          "output_type": "execute_result",
          "data": {
            "text/plain": [
              "1.8331129326536337"
            ]
          },
          "metadata": {},
          "execution_count": 181
        }
      ]
    },
    {
      "cell_type": "code",
      "source": [
        "if(t<t_critical): #2 tail\n",
        "  print('Accept Null hypothesis')\n",
        "else:\n",
        "  print('Reject Null Hypothesis')"
      ],
      "metadata": {
        "colab": {
          "base_uri": "https://localhost:8080/"
        },
        "id": "FtqSRmqs08Gb",
        "outputId": "328ecdb8-a734-4f0d-f84a-9c092abc51d1"
      },
      "execution_count": null,
      "outputs": [
        {
          "output_type": "stream",
          "name": "stdout",
          "text": [
            "Accept Null hypothesis\n"
          ]
        }
      ]
    },
    {
      "cell_type": "markdown",
      "metadata": {
        "id": "STP-Mo-hEMnU"
      },
      "source": [
        "#Model Building"
      ]
    },
    {
      "cell_type": "code",
      "source": [
        "from sklearn.metrics import confusion_matrix ,precision_score, recall_score ,f1_score, roc_curve, roc_auc_score "
      ],
      "metadata": {
        "id": "Nf-39-ajYtD_"
      },
      "execution_count": null,
      "outputs": []
    },
    {
      "cell_type": "markdown",
      "metadata": {
        "id": "sYR4vrZRERLe"
      },
      "source": [
        "#Logistic Regression"
      ]
    },
    {
      "cell_type": "code",
      "metadata": {
        "id": "eA0sdvnrGRPJ"
      },
      "source": [
        "from sklearn.linear_model import LogisticRegression\n",
        "from sklearn.metrics import accuracy_score, f1_score, confusion_matrix, precision_score, recall_score, classification_report"
      ],
      "execution_count": null,
      "outputs": []
    },
    {
      "cell_type": "code",
      "metadata": {
        "colab": {
          "base_uri": "https://localhost:8080/"
        },
        "id": "2lIkM48vEGoJ",
        "outputId": "65e5ba4f-60e6-43eb-aca2-0425794a24c9"
      },
      "source": [
        "from sklearn.model_selection import train_test_split\n",
        "\n",
        "X_train, X_test, y_train, y_test= train_test_split(features,label, test_size= 0.25, random_state=70)\n",
        "\n",
        "classimodel= LogisticRegression()  \n",
        "classimodel.fit(X_train, y_train)\n",
        "  \n",
        "\n",
        "y_predlogi =  classimodel.predict(X_test)\n",
        "print(' f1 score: ',f1_score(y_test, y_predlogi),'\\n')\n",
        "print(confusion_matrix(y_test, y_predlogi))"
      ],
      "execution_count": null,
      "outputs": [
        {
          "output_type": "stream",
          "name": "stdout",
          "text": [
            " f1 score:  0.045274476513865305 \n",
            "\n",
            "[[83189   491]\n",
            " [11318   280]]\n"
          ]
        }
      ]
    },
    {
      "cell_type": "code",
      "metadata": {
        "colab": {
          "base_uri": "https://localhost:8080/"
        },
        "id": "4Z8wmGkPELPr",
        "outputId": "a00b3196-2fff-4cf2-9a4f-eb1c6a85f670"
      },
      "source": [
        "print(' precision score: ',precision_score(y_test, y_predlogi),'\\n')\n",
        "print(' recall score: ',recall_score(y_test, y_predlogi),'\\n')\n",
        "print('Accuracy:', accuracy_score(y_test, y_predlogi))\n"
      ],
      "execution_count": null,
      "outputs": [
        {
          "output_type": "stream",
          "name": "stdout",
          "text": [
            " precision score:  0.3631647211413748 \n",
            "\n",
            " recall score:  0.02414209346439041 \n",
            "\n",
            "Accuracy: 0.8760574319360188\n"
          ]
        }
      ]
    },
    {
      "cell_type": "markdown",
      "metadata": {
        "id": "9KYsZ0ggFr4l"
      },
      "source": [
        "#Naive Baye's Classification"
      ]
    },
    {
      "cell_type": "code",
      "metadata": {
        "id": "86pL7IQRGU3b"
      },
      "source": [
        "from sklearn.naive_bayes import GaussianNB"
      ],
      "execution_count": null,
      "outputs": []
    },
    {
      "cell_type": "code",
      "metadata": {
        "colab": {
          "base_uri": "https://localhost:8080/"
        },
        "id": "BIInq0qrELLC",
        "outputId": "99db2d89-fc0c-4f67-95dd-4c8ab7fe1dd2"
      },
      "source": [
        "X_train, X_test, y_train, y_test= train_test_split(features,label, test_size= 0.25, random_state=94)\n",
        "\n",
        "NBmodel = GaussianNB()  \n",
        "NBmodel.fit(X_train, y_train) \n",
        "\n",
        "y_predNB =  NBmodel.predict(X_test)\n",
        "print(' f1 score: ',f1_score(y_test, y_predNB),'\\n')     #harmonic mean of precision and recall\n",
        "print(confusion_matrix(y_test, y_predNB))"
      ],
      "execution_count": null,
      "outputs": [
        {
          "output_type": "stream",
          "name": "stdout",
          "text": [
            " f1 score:  0.40513759626721524 \n",
            "\n",
            "[[63490 19938]\n",
            " [ 3775  8075]]\n"
          ]
        }
      ]
    },
    {
      "cell_type": "code",
      "metadata": {
        "colab": {
          "base_uri": "https://localhost:8080/"
        },
        "id": "5TnnSlyGELI9",
        "outputId": "23345f55-9f8e-4aec-9118-b9a7677d02c5"
      },
      "source": [
        "print(' precision score: ',precision_score(y_test, y_predNB),'\\n')\n",
        "print(' recall score: ',recall_score(y_test, y_predNB),'\\n')\n",
        "print('Accuracy:', accuracy_score(y_test, y_predNB))"
      ],
      "execution_count": null,
      "outputs": [
        {
          "output_type": "stream",
          "name": "stdout",
          "text": [
            " precision score:  0.28825902259665154 \n",
            "\n",
            " recall score:  0.6814345991561181 \n",
            "\n",
            "Accuracy: 0.7511177816494888\n"
          ]
        }
      ]
    },
    {
      "cell_type": "markdown",
      "metadata": {
        "id": "nsh73gAaGAxd"
      },
      "source": [
        "#Decision Tree Classifier"
      ]
    },
    {
      "cell_type": "code",
      "metadata": {
        "id": "p8x7vU2kGdzG"
      },
      "source": [
        "from sklearn import tree"
      ],
      "execution_count": null,
      "outputs": []
    },
    {
      "cell_type": "code",
      "metadata": {
        "colab": {
          "base_uri": "https://localhost:8080/"
        },
        "id": "Bwod_DC4ELFu",
        "outputId": "0a02b92e-9fc4-4a09-89ae-eafedd9daf17"
      },
      "source": [
        "X_train, X_test, y_train, y_test= train_test_split(features,label, test_size= 0.25, random_state=34)\n",
        "\n",
        "DTmodel=  tree.DecisionTreeClassifier(criterion = 'entropy',splitter = 'random', max_depth=4)  \n",
        "DTmodel.fit(X_train, y_train)\n",
        "\n",
        "y_pred =  DTmodel.predict(X_test)\n",
        "print(' f1 score: ',f1_score(y_test, y_pred),'\\n')\n",
        "print(confusion_matrix(y_test, y_pred))"
      ],
      "execution_count": null,
      "outputs": [
        {
          "output_type": "stream",
          "name": "stdout",
          "text": [
            " f1 score:  0.0 \n",
            "\n",
            "[[83725     0]\n",
            " [11553     0]]\n"
          ]
        }
      ]
    },
    {
      "cell_type": "code",
      "metadata": {
        "colab": {
          "base_uri": "https://localhost:8080/"
        },
        "id": "PzYHxU0bELD8",
        "outputId": "44ecb8b6-8270-48b0-d619-4fff576dbe10"
      },
      "source": [
        "print(' precision score: ',precision_score(y_test, y_pred),'\\n')\n",
        "print(' recall score: ',recall_score(y_test, y_pred),'\\n')\n",
        "print('Accuracy:', accuracy_score(y_test, y_pred))"
      ],
      "execution_count": null,
      "outputs": [
        {
          "output_type": "stream",
          "name": "stdout",
          "text": [
            " precision score:  0.0 \n",
            "\n",
            " recall score:  0.0 \n",
            "\n",
            "Accuracy: 0.8787443061357292\n"
          ]
        },
        {
          "output_type": "stream",
          "name": "stderr",
          "text": [
            "/usr/local/lib/python3.7/dist-packages/sklearn/metrics/_classification.py:1308: UndefinedMetricWarning: Precision is ill-defined and being set to 0.0 due to no predicted samples. Use `zero_division` parameter to control this behavior.\n",
            "  _warn_prf(average, modifier, msg_start, len(result))\n"
          ]
        }
      ]
    },
    {
      "cell_type": "markdown",
      "metadata": {
        "id": "-LGtcRKLHF-H"
      },
      "source": [
        "#Random Forest Classifier"
      ]
    },
    {
      "cell_type": "code",
      "metadata": {
        "id": "zR2Yb30eELB1"
      },
      "source": [
        "from sklearn.ensemble import RandomForestClassifier"
      ],
      "execution_count": null,
      "outputs": []
    },
    {
      "cell_type": "code",
      "metadata": {
        "colab": {
          "base_uri": "https://localhost:8080/"
        },
        "id": "uDCxfK9-Gw_t",
        "outputId": "41644dd1-f62f-4456-8ac7-77e01c9867eb"
      },
      "source": [
        "X_train, X_test, y_train, y_test= train_test_split(features,label, test_size= 0.25, random_state=2)\n",
        "\n",
        "RFmodel=  RandomForestClassifier(criterion='entropy',max_depth=4) \n",
        "RFmodel.fit(X_train, y_train) \n",
        "\n",
        "y_pred =  RFmodel.predict(X_test)\n",
        "print(' f1 score: ',f1_score(y_test, y_pred),'\\n')\n",
        "print(confusion_matrix(y_test, y_pred))"
      ],
      "execution_count": null,
      "outputs": [
        {
          "output_type": "stream",
          "name": "stdout",
          "text": [
            " f1 score:  0.0 \n",
            "\n",
            "[[83790     0]\n",
            " [11488     0]]\n"
          ]
        }
      ]
    },
    {
      "cell_type": "code",
      "metadata": {
        "colab": {
          "base_uri": "https://localhost:8080/"
        },
        "id": "6r0zvtjDGw3S",
        "outputId": "8a4ddfaa-0f24-47d9-fa6a-60c9ce509b21"
      },
      "source": [
        "print(' precision score: ',precision_score(y_test, y_pred),'\\n')\n",
        "print(' recall score: ',recall_score(y_test, y_pred),'\\n')\n",
        "print('Accuracy:', accuracy_score(y_test, y_pred))"
      ],
      "execution_count": null,
      "outputs": [
        {
          "output_type": "stream",
          "name": "stdout",
          "text": [
            " precision score:  0.0 \n",
            "\n",
            " recall score:  0.0 \n",
            "\n",
            "Accuracy: 0.8794265202879993\n"
          ]
        },
        {
          "output_type": "stream",
          "name": "stderr",
          "text": [
            "/usr/local/lib/python3.7/dist-packages/sklearn/metrics/_classification.py:1308: UndefinedMetricWarning: Precision is ill-defined and being set to 0.0 due to no predicted samples. Use `zero_division` parameter to control this behavior.\n",
            "  _warn_prf(average, modifier, msg_start, len(result))\n"
          ]
        }
      ]
    },
    {
      "cell_type": "markdown",
      "metadata": {
        "id": "tN22jI9OHgcu"
      },
      "source": [
        "here we will be using many algorithms and compare all of them. which algorithm will be giving us a Better result. The following algorithms are below.\n",
        "\n",
        "Logistic Regression (f1 score: 0.0 )\n",
        "\n",
        "#naive bayes (f1 score: 0.4182915181587346)\n",
        "\n",
        "DecisionTreeClassifier (f1 score: 0.0)\n",
        "\n",
        "RandomForestClassifier (f1 score: 0.0)"
      ]
    },
    {
      "cell_type": "code",
      "metadata": {
        "id": "4n4PRvocEK-b"
      },
      "source": [
        ""
      ],
      "execution_count": null,
      "outputs": []
    },
    {
      "cell_type": "markdown",
      "metadata": {
        "id": "aRBT8nnxH8rw"
      },
      "source": [
        "#Receiver Operating Characteristic Score (ROC AUC)"
      ]
    },
    {
      "cell_type": "markdown",
      "metadata": {
        "id": "ws7oUdJrIDzy"
      },
      "source": [
        "#Logistic Regression ROC Score"
      ]
    },
    {
      "cell_type": "code",
      "metadata": {
        "colab": {
          "base_uri": "https://localhost:8080/",
          "height": 300
        },
        "id": "QiTaUubIIC9l",
        "outputId": "04012765-429a-4e6d-af8c-19a583aee128"
      },
      "source": [
        "\n",
        "probabilityValues = classimodel.predict_proba(features)[:,1]\n",
        "#Calculate AUC\n",
        "auc = roc_auc_score(label,probabilityValues)\n",
        "print(auc)\n",
        "#Calculate roc_curve\n",
        "fpr,tpr, threshold =  roc_curve(label,probabilityValues)\n",
        "plt.plot([0,1],[0,1], linestyle = '--')\n",
        "plt.plot(fpr,tpr)"
      ],
      "execution_count": null,
      "outputs": [
        {
          "output_type": "stream",
          "name": "stdout",
          "text": [
            "0.8233789568647557\n"
          ]
        },
        {
          "output_type": "execute_result",
          "data": {
            "text/plain": [
              "[<matplotlib.lines.Line2D at 0x7fa2202bcf50>]"
            ]
          },
          "metadata": {},
          "execution_count": 196
        },
        {
          "output_type": "display_data",
          "data": {
            "image/png": "[encoded data removed]",
            "text/plain": [
              "<Figure size 432x288 with 1 Axes>"
            ]
          },
          "metadata": {
            "needs_background": "light"
          }
        }
      ]
    },
    {
      "cell_type": "markdown",
      "metadata": {
        "id": "SGdDaS5VIxmz"
      },
      "source": [
        "#Naive Baye's ROC Score"
      ]
    },
    {
      "cell_type": "code",
      "metadata": {
        "colab": {
          "base_uri": "https://localhost:8080/",
          "height": 300
        },
        "id": "eZ2yMIAIHv74",
        "outputId": "0b4d986d-ca9c-41d3-d214-31e1cd294ac5"
      },
      "source": [
        "probabilityValues = NBmodel.predict_proba(features)[:,1]\n",
        "#Calculate AUC\n",
        "auc = roc_auc_score(label,probabilityValues)\n",
        "print(auc)\n",
        "#Calculate roc_curve\n",
        "fpr,tpr, threshold =  roc_curve(label,probabilityValues)\n",
        "plt.plot([0,1],[0,1], linestyle = '--')\n",
        "plt.plot(fpr,tpr)"
      ],
      "execution_count": null,
      "outputs": [
        {
          "output_type": "stream",
          "name": "stdout",
          "text": [
            "0.8221238235401243\n"
          ]
        },
        {
          "output_type": "execute_result",
          "data": {
            "text/plain": [
              "[<matplotlib.lines.Line2D at 0x7fa220424390>]"
            ]
          },
          "metadata": {},
          "execution_count": 197
        },
        {
          "output_type": "display_data",
          "data": {
            "image/png": "[encoded data removed]",
            "text/plain": [
              "<Figure size 432x288 with 1 Axes>"
            ]
          },
          "metadata": {
            "needs_background": "light"
          }
        }
      ]
    },
    {
      "cell_type": "markdown",
      "metadata": {
        "id": "8Q6J__skI5KV"
      },
      "source": [
        "#Decision Tree ROC Score"
      ]
    },
    {
      "cell_type": "code",
      "metadata": {
        "colab": {
          "base_uri": "https://localhost:8080/",
          "height": 300
        },
        "id": "MJi4y6HqHv5u",
        "outputId": "98760bd1-f1ac-405b-afb5-83ef3dcce04a"
      },
      "source": [
        "probabilityValues = DTmodel.predict_proba(features)[:,1]\n",
        "#Calculate AUC\n",
        "auc = roc_auc_score(label,probabilityValues)\n",
        "print(auc)\n",
        "#Calculate roc_curve\n",
        "fpr,tpr, threshold =  roc_curve(label,probabilityValues)\n",
        "plt.plot([0,1],[0,1], linestyle = '--')\n",
        "plt.plot(fpr,tpr)"
      ],
      "execution_count": null,
      "outputs": [
        {
          "output_type": "stream",
          "name": "stdout",
          "text": [
            "0.8283348471481311\n"
          ]
        },
        {
          "output_type": "execute_result",
          "data": {
            "text/plain": [
              "[<matplotlib.lines.Line2D at 0x7fa22035cf50>]"
            ]
          },
          "metadata": {},
          "execution_count": 198
        },
        {
          "output_type": "display_data",
          "data": {
            "image/png": "[encoded data removed]",
            "text/plain": [
              "<Figure size 432x288 with 1 Axes>"
            ]
          },
          "metadata": {
            "needs_background": "light"
          }
        }
      ]
    },
    {
      "cell_type": "markdown",
      "metadata": {
        "id": "Z2p27-69JBcq"
      },
      "source": [
        "#Random Forest ROC Score"
      ]
    },
    {
      "cell_type": "code",
      "metadata": {
        "colab": {
          "base_uri": "https://localhost:8080/",
          "height": 300
        },
        "id": "FG8VqtlQHv31",
        "outputId": "f1f9c63c-ecc6-4d60-9ed4-6c761b0b00e6"
      },
      "source": [
        "probabilityValues = RFmodel.predict_proba(features)[:,1]\n",
        "#Calculate AUC\n",
        "auc = roc_auc_score(label,probabilityValues)\n",
        "print(auc)\n",
        "#Calculate roc_curve\n",
        "fpr,tpr, threshold =  roc_curve(label,probabilityValues)\n",
        "plt.plot([0,1],[0,1], linestyle = '--')\n",
        "plt.plot(fpr,tpr)"
      ],
      "execution_count": null,
      "outputs": [
        {
          "output_type": "stream",
          "name": "stdout",
          "text": [
            "0.8433370018939623\n"
          ]
        },
        {
          "output_type": "execute_result",
          "data": {
            "text/plain": [
              "[<matplotlib.lines.Line2D at 0x7fa220656410>]"
            ]
          },
          "metadata": {},
          "execution_count": 199
        },
        {
          "output_type": "display_data",
          "data": {
            "image/png": "[encoded data removed]",
            "text/plain": [
              "<Figure size 432x288 with 1 Axes>"
            ]
          },
          "metadata": {
            "needs_background": "light"
          }
        }
      ]
    },
    {
      "cell_type": "markdown",
      "metadata": {
        "id": "uNnCbXQvJP8L"
      },
      "source": [
        "here we will be using many algorithms and compare all of them. which algorithm will be giving us a Better result. The following algorithms are below.\n",
        "\n",
        "Logistic Regression (auc: 0.8118786282323492)\n",
        "\n",
        "naive bayes (auc: 0.8214481948289034)\n",
        "\n",
        "DecisionTreeClassifier (auc: 0.829889187907877)\n",
        "\n",
        "RandomForestClassifier (auc: 0.845225109832536)"
      ]
    },
    {
      "cell_type": "code",
      "source": [
        "param_grid_nb = {'var_smoothing': np.logspace(0,-9, num=100)}"
      ],
      "metadata": {
        "id": "1_DlGL9Hrv07"
      },
      "execution_count": null,
      "outputs": []
    },
    {
      "cell_type": "code",
      "source": [
        "from sklearn.naive_bayes import GaussianNB\n",
        "from sklearn.model_selection import GridSearchCV\n",
        "nbModel_grid = GridSearchCV(estimator=GaussianNB(), param_grid=param_grid_nb, verbose=1, cv=10, n_jobs=-1)\n",
        "nbModel_grid.fit(X_train, y_train)\n",
        "print(nbModel_grid.best_estimator_)\n",
        "GaussianNB(priors=None, var_smoothing=1.0)"
      ],
      "metadata": {
        "colab": {
          "base_uri": "https://localhost:8080/"
        },
        "id": "eicnOz1hbvb4",
        "outputId": "c5c36804-a868-4945-8939-40a639e5b1d6"
      },
      "execution_count": null,
      "outputs": [
        {
          "output_type": "stream",
          "name": "stdout",
          "text": [
            "Fitting 10 folds for each of 100 candidates, totalling 1000 fits\n",
            "GaussianNB(var_smoothing=1.519911082952933e-08)\n"
          ]
        },
        {
          "output_type": "execute_result",
          "data": {
            "text/plain": [
              "GaussianNB(var_smoothing=1.0)"
            ]
          },
          "metadata": {},
          "execution_count": 201
        }
      ]
    },
    {
      "cell_type": "code",
      "metadata": {
        "id": "IfrPFRsDHvyT"
      },
      "source": [
        "y_pred = nbModel_grid.predict(X_test)"
      ],
      "execution_count": null,
      "outputs": []
    },
    {
      "cell_type": "code",
      "metadata": {
        "id": "6HHc7VxRHvvx",
        "colab": {
          "base_uri": "https://localhost:8080/"
        },
        "outputId": "8d4f2b80-66a6-4339-96fc-12c3596ef447"
      },
      "source": [
        "from sklearn.metrics import confusion_matrix\n",
        "print(confusion_matrix(y_test, y_pred), \": is the confusion matrix\")\n",
        "from sklearn.metrics import accuracy_score\n",
        "print(accuracy_score(y_test, y_pred), \": is the accuracy score\")\n",
        "from sklearn.metrics import precision_score\n",
        "print(precision_score(y_test, y_pred), \": is the precision score\")\n",
        "from sklearn.metrics import recall_score\n",
        "print(recall_score(y_test, y_pred), \": is the recall score\")\n",
        "from sklearn.metrics import f1_score\n",
        "print(f1_score(y_test, y_pred), \": is the f1 score\")"
      ],
      "execution_count": null,
      "outputs": [
        {
          "output_type": "stream",
          "name": "stdout",
          "text": [
            "[[83788     2]\n",
            " [11486     2]] : is the confusion matrix\n",
            "0.8794265202879993 : is the accuracy score\n",
            "0.5 : is the precision score\n",
            "0.00017409470752089137 : is the recall score\n",
            "0.00034806822137138876 : is the f1 score\n"
          ]
        }
      ]
    },
    {
      "cell_type": "code",
      "source": [
        "if y_pred.all()==y_test.all():\n",
        "  print('true')"
      ],
      "metadata": {
        "colab": {
          "base_uri": "https://localhost:8080/"
        },
        "id": "VzjN2GhYaLex",
        "outputId": "a6179c9c-1bb0-4bf1-ac1c-e87620642d2f"
      },
      "execution_count": null,
      "outputs": [
        {
          "output_type": "stream",
          "name": "stdout",
          "text": [
            "true\n"
          ]
        }
      ]
    }
  ]
}